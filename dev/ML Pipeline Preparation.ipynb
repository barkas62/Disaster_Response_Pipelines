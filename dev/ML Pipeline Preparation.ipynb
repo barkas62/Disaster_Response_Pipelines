{
 "cells": [
  {
   "cell_type": "markdown",
   "metadata": {},
   "source": [
    "# ML Pipeline Preparation\n",
    "Follow the instructions below to help you create your ML pipeline.\n",
    "### 1. Import libraries and load data from database.\n",
    "- Import Python libraries\n",
    "- Load dataset from database with [`read_sql_table`](https://pandas.pydata.org/pandas-docs/stable/generated/pandas.read_sql_table.html)\n",
    "- Define feature and target variables X and Y"
   ]
  },
  {
   "cell_type": "code",
   "execution_count": 1,
   "metadata": {},
   "outputs": [
    {
     "name": "stderr",
     "output_type": "stream",
     "text": [
      "[nltk_data] Downloading package stopwords to /Users/boris/nltk_data...\n",
      "[nltk_data]   Package stopwords is already up-to-date!\n",
      "[nltk_data] Downloading package wordnet to /Users/boris/nltk_data...\n",
      "[nltk_data]   Package wordnet is already up-to-date!\n"
     ]
    }
   ],
   "source": [
    "# import libraries\n",
    "import pandas as pd\n",
    "from sqlalchemy import create_engine\n",
    "import re\n",
    "import nltk\n",
    "\n",
    "from nltk.corpus import stopwords\n",
    "from nltk.stem.wordnet import WordNetLemmatizer\n",
    "from nltk.stem.porter import PorterStemmer\n",
    "\n",
    "nltk.download('stopwords')\n",
    "nltk.download('wordnet')\n",
    "\n",
    "from sklearn.model_selection import train_test_split\n",
    "from sklearn.ensemble import RandomForestClassifier\n",
    "from sklearn.feature_extraction.text import TfidfVectorizer\n",
    "from sklearn.multioutput import MultiOutputClassifier\n",
    "from sklearn.pipeline import Pipeline\n",
    "from sklearn.metrics import classification_report\n",
    "from sklearn.metrics import accuracy_score, precision_score, recall_score, f1_score\n",
    "from sklearn.model_selection import GridSearchCV"
   ]
  },
  {
   "cell_type": "code",
   "execution_count": 2,
   "metadata": {},
   "outputs": [
    {
     "data": {
      "text/html": [
       "<div>\n",
       "<style scoped>\n",
       "    .dataframe tbody tr th:only-of-type {\n",
       "        vertical-align: middle;\n",
       "    }\n",
       "\n",
       "    .dataframe tbody tr th {\n",
       "        vertical-align: top;\n",
       "    }\n",
       "\n",
       "    .dataframe thead th {\n",
       "        text-align: right;\n",
       "    }\n",
       "</style>\n",
       "<table border=\"1\" class=\"dataframe\">\n",
       "  <thead>\n",
       "    <tr style=\"text-align: right;\">\n",
       "      <th></th>\n",
       "      <th>id</th>\n",
       "      <th>message</th>\n",
       "      <th>original</th>\n",
       "      <th>genre</th>\n",
       "      <th>related</th>\n",
       "      <th>request</th>\n",
       "      <th>offer</th>\n",
       "      <th>aid_related</th>\n",
       "      <th>medical_help</th>\n",
       "      <th>medical_products</th>\n",
       "      <th>...</th>\n",
       "      <th>aid_centers</th>\n",
       "      <th>other_infrastructure</th>\n",
       "      <th>weather_related</th>\n",
       "      <th>floods</th>\n",
       "      <th>storm</th>\n",
       "      <th>fire</th>\n",
       "      <th>earthquake</th>\n",
       "      <th>cold</th>\n",
       "      <th>other_weather</th>\n",
       "      <th>direct_report</th>\n",
       "    </tr>\n",
       "  </thead>\n",
       "  <tbody>\n",
       "    <tr>\n",
       "      <th>0</th>\n",
       "      <td>2</td>\n",
       "      <td>Weather update - a cold front from Cuba that c...</td>\n",
       "      <td>Un front froid se retrouve sur Cuba ce matin. ...</td>\n",
       "      <td>direct</td>\n",
       "      <td>1</td>\n",
       "      <td>0</td>\n",
       "      <td>0</td>\n",
       "      <td>0</td>\n",
       "      <td>0</td>\n",
       "      <td>0</td>\n",
       "      <td>...</td>\n",
       "      <td>0</td>\n",
       "      <td>0</td>\n",
       "      <td>0</td>\n",
       "      <td>0</td>\n",
       "      <td>0</td>\n",
       "      <td>0</td>\n",
       "      <td>0</td>\n",
       "      <td>0</td>\n",
       "      <td>0</td>\n",
       "      <td>0</td>\n",
       "    </tr>\n",
       "    <tr>\n",
       "      <th>1</th>\n",
       "      <td>7</td>\n",
       "      <td>Is the Hurricane over or is it not over</td>\n",
       "      <td>Cyclone nan fini osinon li pa fini</td>\n",
       "      <td>direct</td>\n",
       "      <td>1</td>\n",
       "      <td>0</td>\n",
       "      <td>0</td>\n",
       "      <td>1</td>\n",
       "      <td>0</td>\n",
       "      <td>0</td>\n",
       "      <td>...</td>\n",
       "      <td>0</td>\n",
       "      <td>0</td>\n",
       "      <td>1</td>\n",
       "      <td>0</td>\n",
       "      <td>1</td>\n",
       "      <td>0</td>\n",
       "      <td>0</td>\n",
       "      <td>0</td>\n",
       "      <td>0</td>\n",
       "      <td>0</td>\n",
       "    </tr>\n",
       "    <tr>\n",
       "      <th>2</th>\n",
       "      <td>8</td>\n",
       "      <td>Looking for someone but no name</td>\n",
       "      <td>Patnm, di Maryani relem pou li banm nouvel li ...</td>\n",
       "      <td>direct</td>\n",
       "      <td>1</td>\n",
       "      <td>0</td>\n",
       "      <td>0</td>\n",
       "      <td>0</td>\n",
       "      <td>0</td>\n",
       "      <td>0</td>\n",
       "      <td>...</td>\n",
       "      <td>0</td>\n",
       "      <td>0</td>\n",
       "      <td>0</td>\n",
       "      <td>0</td>\n",
       "      <td>0</td>\n",
       "      <td>0</td>\n",
       "      <td>0</td>\n",
       "      <td>0</td>\n",
       "      <td>0</td>\n",
       "      <td>0</td>\n",
       "    </tr>\n",
       "  </tbody>\n",
       "</table>\n",
       "<p>3 rows × 39 columns</p>\n",
       "</div>"
      ],
      "text/plain": [
       "   id                                            message  \\\n",
       "0   2  Weather update - a cold front from Cuba that c...   \n",
       "1   7            Is the Hurricane over or is it not over   \n",
       "2   8                    Looking for someone but no name   \n",
       "\n",
       "                                            original   genre  related  \\\n",
       "0  Un front froid se retrouve sur Cuba ce matin. ...  direct        1   \n",
       "1                 Cyclone nan fini osinon li pa fini  direct        1   \n",
       "2  Patnm, di Maryani relem pou li banm nouvel li ...  direct        1   \n",
       "\n",
       "   request  offer  aid_related  medical_help  medical_products  ...  \\\n",
       "0        0      0            0             0                 0  ...   \n",
       "1        0      0            1             0                 0  ...   \n",
       "2        0      0            0             0                 0  ...   \n",
       "\n",
       "   aid_centers  other_infrastructure  weather_related  floods  storm  fire  \\\n",
       "0            0                     0                0       0      0     0   \n",
       "1            0                     0                1       0      1     0   \n",
       "2            0                     0                0       0      0     0   \n",
       "\n",
       "   earthquake  cold  other_weather  direct_report  \n",
       "0           0     0              0              0  \n",
       "1           0     0              0              0  \n",
       "2           0     0              0              0  \n",
       "\n",
       "[3 rows x 39 columns]"
      ]
     },
     "execution_count": 2,
     "metadata": {},
     "output_type": "execute_result"
    }
   ],
   "source": [
    "# load data from database\n",
    "engine = create_engine('sqlite:///DisasterResponse.db')\n",
    "df = pd.read_sql_table('messages_categories', engine)\n",
    "\n",
    "df.head(3)"
   ]
  },
  {
   "cell_type": "markdown",
   "metadata": {},
   "source": [
    "### Extract features (X) and output (Y)"
   ]
  },
  {
   "cell_type": "code",
   "execution_count": 3,
   "metadata": {},
   "outputs": [],
   "source": [
    "# Categories Columnn names  \n",
    "categories_cols = df.columns[4:].tolist()\n",
    "\n",
    "X = df['message']\n",
    "Y = df[categories_cols]"
   ]
  },
  {
   "cell_type": "markdown",
   "metadata": {},
   "source": [
    "### 2. Write a tokenization function to process your text data"
   ]
  },
  {
   "cell_type": "code",
   "execution_count": 4,
   "metadata": {},
   "outputs": [],
   "source": [
    "def tokenize(text):\n",
    "    # Normalize text: leave decapitalized letters and digits only\n",
    "    text = re.sub(r\"[^a-zA-Z0-9]\", \" \", text.lower())\n",
    "    \n",
    "    # Split into words\n",
    "    words = text.split()\n",
    "    \n",
    "    # Remove stop words\n",
    "    words = [w for w in words if w not in stopwords.words(\"english\")]\n",
    "    \n",
    "    # Reduce words to their root form\n",
    "    lemmed = [WordNetLemmatizer().lemmatize(w) for w in words]\n",
    "    \n",
    "    # Reduce words to their stems\n",
    "    stemmed = [PorterStemmer().stem(w) for w in words]\n",
    "    \n",
    "    return stemmed"
   ]
  },
  {
   "cell_type": "code",
   "execution_count": 5,
   "metadata": {},
   "outputs": [
    {
     "name": "stdout",
     "output_type": "stream",
     "text": [
      "Source text:\n",
      "Weather update - a cold front from Cuba that could pass over Haiti\n",
      "Tokens:\n",
      "['weather', 'updat', 'cold', 'front', 'cuba', 'could', 'pass', 'haiti']\n",
      "------------------------------\n",
      "Source text:\n",
      "Is the Hurricane over or is it not over\n",
      "Tokens:\n",
      "['hurrican']\n",
      "------------------------------\n",
      "Source text:\n",
      "Looking for someone but no name\n",
      "Tokens:\n",
      "['look', 'someon', 'name']\n",
      "------------------------------\n",
      "Source text:\n",
      "UN reports Leogane 80-90 destroyed. Only Hospital St. Croix functioning. Needs supplies desperately.\n",
      "Tokens:\n",
      "['un', 'report', 'leogan', '80', '90', 'destroy', 'hospit', 'st', 'croix', 'function', 'need', 'suppli', 'desper']\n",
      "------------------------------\n",
      "Source text:\n",
      "says: west side of Haiti, rest of the country today and tonight\n",
      "Tokens:\n",
      "['say', 'west', 'side', 'haiti', 'rest', 'countri', 'today', 'tonight']\n",
      "------------------------------\n"
     ]
    }
   ],
   "source": [
    "# Test tokenize (use 5 first message texts)\n",
    "\n",
    "for i in range(5):\n",
    "    text = X[i]\n",
    "    print(\"Source text:\\n\" + text)\n",
    "    tokens = tokenize(text)\n",
    "    print(\"Tokens:\\n\" + str(tokens))\n",
    "    print(\"------------------------------\")"
   ]
  },
  {
   "cell_type": "markdown",
   "metadata": {},
   "source": [
    "### 3. Build a machine learning pipeline\n",
    "This machine pipeline should take in the `message` column as input and output classification results on the other 36 categories in the dataset. You may find the [MultiOutputClassifier](http://scikit-learn.org/stable/modules/generated/sklearn.multioutput.MultiOutputClassifier.html) helpful for predicting multiple target variables."
   ]
  },
  {
   "cell_type": "code",
   "execution_count": 6,
   "metadata": {},
   "outputs": [],
   "source": [
    "classifier = RandomForestClassifier(n_estimators=8)\n",
    "\n",
    "pipeline = Pipeline([\n",
    "                    ('tfidf', TfidfVectorizer(tokenizer=tokenize)),\n",
    "                    ('forest', MultiOutputClassifier(classifier))\n",
    "                    ])"
   ]
  },
  {
   "cell_type": "markdown",
   "metadata": {},
   "source": [
    "### 4. Train pipeline\n",
    "- Split data into train and test sets\n",
    "- Train pipeline"
   ]
  },
  {
   "cell_type": "code",
   "execution_count": 7,
   "metadata": {},
   "outputs": [
    {
     "data": {
      "text/plain": [
       "Pipeline(memory=None,\n",
       "         steps=[('tfidf',\n",
       "                 TfidfVectorizer(analyzer='word', binary=False,\n",
       "                                 decode_error='strict',\n",
       "                                 dtype=<class 'numpy.float64'>,\n",
       "                                 encoding='utf-8', input='content',\n",
       "                                 lowercase=True, max_df=1.0, max_features=None,\n",
       "                                 min_df=1, ngram_range=(1, 1), norm='l2',\n",
       "                                 preprocessor=None, smooth_idf=True,\n",
       "                                 stop_words=None, strip_accents=None,\n",
       "                                 sublinear_tf=False,\n",
       "                                 token_pattern='...\n",
       "                                                                        ccp_alpha=0.0,\n",
       "                                                                        class_weight=None,\n",
       "                                                                        criterion='gini',\n",
       "                                                                        max_depth=None,\n",
       "                                                                        max_features='auto',\n",
       "                                                                        max_leaf_nodes=None,\n",
       "                                                                        max_samples=None,\n",
       "                                                                        min_impurity_decrease=0.0,\n",
       "                                                                        min_impurity_split=None,\n",
       "                                                                        min_samples_leaf=1,\n",
       "                                                                        min_samples_split=2,\n",
       "                                                                        min_weight_fraction_leaf=0.0,\n",
       "                                                                        n_estimators=8,\n",
       "                                                                        n_jobs=None,\n",
       "                                                                        oob_score=False,\n",
       "                                                                        random_state=None,\n",
       "                                                                        verbose=0,\n",
       "                                                                        warm_start=False),\n",
       "                                       n_jobs=None))],\n",
       "         verbose=False)"
      ]
     },
     "execution_count": 7,
     "metadata": {},
     "output_type": "execute_result"
    }
   ],
   "source": [
    "X_train, X_test, Y_train, Y_test = train_test_split(X, Y, test_size=0.33, random_state=42)\n",
    "\n",
    "pipeline.fit(X_train, Y_train)"
   ]
  },
  {
   "cell_type": "markdown",
   "metadata": {},
   "source": [
    "### 5. Test your model\n",
    "Report the f1 score, precision and recall for each output category of the dataset. You can do this by iterating through the columns and calling sklearn's `classification_report` on each."
   ]
  },
  {
   "cell_type": "markdown",
   "metadata": {},
   "source": [
    "First, I will define a function that will compute _predictions_ on test and train data, and compare _average_ scores (accuracy, precision recall and F1). "
   ]
  },
  {
   "cell_type": "code",
   "execution_count": 8,
   "metadata": {},
   "outputs": [],
   "source": [
    "def test_model(model, X_train, X_test, Y_train, Y_test):\n",
    "    '''\n",
    "    Test the multi-class model on test and train data\n",
    "    :param model   : scikit-learn estimator : fitted estimator\n",
    "    :param X_train : array-like : train set of explanatory variables  \n",
    "    :param X_test  : array-like : test set of explanatory variables \n",
    "    :param Y_train : array-like : train set of target variables  \n",
    "    :param Y_test  : array-like : test set of target variables \n",
    "    \n",
    "    :return: array-like : predicted test and train values\n",
    "    '''\n",
    "    Y_pred_train = model.predict(X_train)\n",
    "    Y_pred_test  = model.predict(X_test)\n",
    "    \n",
    "    print('==========  Test Data Scores ===========')\n",
    "    print('Accuracy: ', accuracy_score(Y_test, Y_pred_test))\n",
    "    print('Precision: ', precision_score(Y_test, Y_pred_test, average='weighted'))\n",
    "    print('Recall: ', recall_score(Y_test, Y_pred_test, average='weighted'))\n",
    "    print('F1 score: ', f1_score(Y_test, Y_pred_test, average='weighted'))\n",
    "    \n",
    "    print('\\n==========  Train Data Scores ===========')\n",
    "    print('Accuracy: ', accuracy_score(Y_train, Y_pred_train))\n",
    "    print('Precision: ', precision_score(Y_train, Y_pred_train, average='weighted'))\n",
    "    print('Recall: ', recall_score(Y_train, Y_pred_train, average='weighted'))\n",
    "    print('F1 score: ', f1_score(Y_train, Y_pred_train, average='weighted'))\n",
    "    \n",
    "    return Y_pred_test, Y_pred_train"
   ]
  },
  {
   "cell_type": "code",
   "execution_count": 9,
   "metadata": {},
   "outputs": [
    {
     "name": "stdout",
     "output_type": "stream",
     "text": [
      "==========  Test Data Scores ===========\n",
      "Accuracy:  0.23924449108079748\n",
      "Precision:  0.7344907701442659\n",
      "Recall:  0.47320133449376267\n",
      "F1 score:  0.5322109085793731\n",
      "\n",
      "==========  Train Data Scores ===========\n",
      "Accuracy:  0.7779692166322076\n"
     ]
    },
    {
     "name": "stderr",
     "output_type": "stream",
     "text": [
      "/Users/boris/anaconda3/envs/data_sci/lib/python3.8/site-packages/sklearn/metrics/_classification.py:1272: UndefinedMetricWarning: Precision is ill-defined and being set to 0.0 in labels with no predicted samples. Use `zero_division` parameter to control this behavior.\n",
      "  _warn_prf(average, modifier, msg_start, len(result))\n"
     ]
    },
    {
     "name": "stdout",
     "output_type": "stream",
     "text": [
      "Precision:  0.9952045860804352\n",
      "Recall:  0.9040265054133324\n",
      "F1 score:  0.9451620693161373\n"
     ]
    }
   ],
   "source": [
    "Y_pred_test, Y_pred_train = test_model(pipeline, X_train, X_test, Y_train, Y_test)"
   ]
  },
  {
   "cell_type": "markdown",
   "metadata": {},
   "source": [
    "We see that _train_ scores are much higher that _test_ scores. This means that we have a rather over-fitted model. "
   ]
  },
  {
   "cell_type": "markdown",
   "metadata": {},
   "source": [
    "Now let's compute f1 score, precision and recall for each output category of the dataset."
   ]
  },
  {
   "cell_type": "code",
   "execution_count": 10,
   "metadata": {},
   "outputs": [
    {
     "name": "stdout",
     "output_type": "stream",
     "text": [
      "related\n",
      "              precision    recall  f1-score   support\n",
      "\n",
      "           0       0.61      0.48      0.54      2023\n",
      "           1       0.85      0.91      0.88      6554\n",
      "\n",
      "    accuracy                           0.81      8577\n",
      "   macro avg       0.73      0.69      0.71      8577\n",
      "weighted avg       0.79      0.81      0.80      8577\n",
      "\n",
      "----------------------------------------------\n",
      "request\n",
      "              precision    recall  f1-score   support\n",
      "\n",
      "           0       0.89      0.97      0.93      7084\n",
      "           1       0.78      0.44      0.56      1493\n",
      "\n",
      "    accuracy                           0.88      8577\n",
      "   macro avg       0.84      0.70      0.75      8577\n",
      "weighted avg       0.87      0.88      0.87      8577\n",
      "\n",
      "----------------------------------------------\n",
      "offer\n",
      "              precision    recall  f1-score   support\n",
      "\n",
      "           0       1.00      1.00      1.00      8536\n",
      "           1       1.00      0.02      0.05        41\n",
      "\n",
      "    accuracy                           1.00      8577\n",
      "   macro avg       1.00      0.51      0.52      8577\n",
      "weighted avg       1.00      1.00      0.99      8577\n",
      "\n",
      "----------------------------------------------\n",
      "aid_related\n",
      "              precision    recall  f1-score   support\n",
      "\n",
      "           0       0.73      0.87      0.80      4958\n",
      "           1       0.76      0.57      0.65      3619\n",
      "\n",
      "    accuracy                           0.74      8577\n",
      "   macro avg       0.75      0.72      0.72      8577\n",
      "weighted avg       0.75      0.74      0.74      8577\n",
      "\n",
      "----------------------------------------------\n",
      "medical_help\n",
      "              precision    recall  f1-score   support\n",
      "\n",
      "           0       0.92      0.99      0.96      7862\n",
      "           1       0.53      0.09      0.16       715\n",
      "\n",
      "    accuracy                           0.92      8577\n",
      "   macro avg       0.73      0.54      0.56      8577\n",
      "weighted avg       0.89      0.92      0.89      8577\n",
      "\n",
      "----------------------------------------------\n",
      "medical_products\n",
      "              precision    recall  f1-score   support\n",
      "\n",
      "           0       0.95      1.00      0.97      8141\n",
      "           1       0.66      0.05      0.09       436\n",
      "\n",
      "    accuracy                           0.95      8577\n",
      "   macro avg       0.80      0.52      0.53      8577\n",
      "weighted avg       0.94      0.95      0.93      8577\n",
      "\n",
      "----------------------------------------------\n",
      "search_and_rescue\n",
      "              precision    recall  f1-score   support\n",
      "\n",
      "           0       0.98      1.00      0.99      8343\n",
      "           1       0.61      0.10      0.17       234\n",
      "\n",
      "    accuracy                           0.97      8577\n",
      "   macro avg       0.79      0.55      0.58      8577\n",
      "weighted avg       0.97      0.97      0.96      8577\n",
      "\n",
      "----------------------------------------------\n",
      "security\n",
      "              precision    recall  f1-score   support\n",
      "\n",
      "           0       0.98      1.00      0.99      8416\n",
      "           1       0.29      0.01      0.02       161\n",
      "\n",
      "    accuracy                           0.98      8577\n",
      "   macro avg       0.63      0.51      0.51      8577\n",
      "weighted avg       0.97      0.98      0.97      8577\n",
      "\n",
      "----------------------------------------------\n",
      "military\n",
      "              precision    recall  f1-score   support\n",
      "\n",
      "           0       0.97      1.00      0.98      8299\n",
      "           1       0.78      0.08      0.14       278\n",
      "\n",
      "    accuracy                           0.97      8577\n",
      "   macro avg       0.87      0.54      0.56      8577\n",
      "weighted avg       0.96      0.97      0.96      8577\n",
      "\n",
      "----------------------------------------------\n",
      "water\n",
      "              precision    recall  f1-score   support\n",
      "\n",
      "           0       0.95      1.00      0.97      8049\n",
      "           1       0.81      0.27      0.41       528\n",
      "\n",
      "    accuracy                           0.95      8577\n",
      "   macro avg       0.88      0.63      0.69      8577\n",
      "weighted avg       0.95      0.95      0.94      8577\n",
      "\n",
      "----------------------------------------------\n",
      "food\n",
      "              precision    recall  f1-score   support\n",
      "\n",
      "           0       0.94      0.99      0.96      7619\n",
      "           1       0.84      0.51      0.64       958\n",
      "\n",
      "    accuracy                           0.93      8577\n",
      "   macro avg       0.89      0.75      0.80      8577\n",
      "weighted avg       0.93      0.93      0.93      8577\n",
      "\n",
      "----------------------------------------------\n",
      "shelter\n",
      "              precision    recall  f1-score   support\n",
      "\n",
      "           0       0.93      0.99      0.96      7771\n",
      "           1       0.84      0.29      0.43       806\n",
      "\n",
      "    accuracy                           0.93      8577\n",
      "   macro avg       0.89      0.64      0.69      8577\n",
      "weighted avg       0.92      0.93      0.91      8577\n",
      "\n",
      "----------------------------------------------\n",
      "clothing\n",
      "              precision    recall  f1-score   support\n",
      "\n",
      "           0       0.99      1.00      0.99      8443\n",
      "           1       0.73      0.06      0.11       134\n",
      "\n",
      "    accuracy                           0.98      8577\n",
      "   macro avg       0.86      0.53      0.55      8577\n",
      "weighted avg       0.98      0.98      0.98      8577\n",
      "\n",
      "----------------------------------------------\n",
      "money\n",
      "              precision    recall  f1-score   support\n",
      "\n",
      "           0       0.98      1.00      0.99      8359\n",
      "           1       0.83      0.02      0.04       218\n",
      "\n",
      "    accuracy                           0.98      8577\n",
      "   macro avg       0.90      0.51      0.52      8577\n",
      "weighted avg       0.97      0.98      0.96      8577\n",
      "\n",
      "----------------------------------------------\n",
      "missing_people\n",
      "              precision    recall  f1-score   support\n",
      "\n",
      "           0       0.99      1.00      0.99      8479\n",
      "           1       0.33      0.01      0.02        98\n",
      "\n",
      "    accuracy                           0.99      8577\n",
      "   macro avg       0.66      0.50      0.51      8577\n",
      "weighted avg       0.98      0.99      0.98      8577\n",
      "\n",
      "----------------------------------------------\n",
      "refugees\n",
      "              precision    recall  f1-score   support\n",
      "\n",
      "           0       0.97      1.00      0.98      8285\n",
      "           1       0.64      0.13      0.21       292\n",
      "\n",
      "    accuracy                           0.97      8577\n",
      "   macro avg       0.80      0.56      0.60      8577\n",
      "weighted avg       0.96      0.97      0.96      8577\n",
      "\n",
      "----------------------------------------------\n",
      "death\n",
      "              precision    recall  f1-score   support\n",
      "\n",
      "           0       0.96      1.00      0.98      8194\n",
      "           1       0.81      0.10      0.18       383\n",
      "\n",
      "    accuracy                           0.96      8577\n",
      "   macro avg       0.88      0.55      0.58      8577\n",
      "weighted avg       0.95      0.96      0.94      8577\n",
      "\n",
      "----------------------------------------------\n",
      "other_aid\n",
      "              precision    recall  f1-score   support\n",
      "\n",
      "           0       0.87      0.99      0.93      7390\n",
      "           1       0.50      0.05      0.10      1187\n",
      "\n",
      "    accuracy                           0.86      8577\n",
      "   macro avg       0.69      0.52      0.51      8577\n",
      "weighted avg       0.82      0.86      0.81      8577\n",
      "\n",
      "----------------------------------------------\n",
      "infrastructure_related\n",
      "              precision    recall  f1-score   support\n",
      "\n",
      "           0       0.93      1.00      0.97      8012\n",
      "           1       0.24      0.01      0.01       565\n",
      "\n",
      "    accuracy                           0.93      8577\n",
      "   macro avg       0.58      0.50      0.49      8577\n",
      "weighted avg       0.89      0.93      0.90      8577\n",
      "\n",
      "----------------------------------------------\n",
      "transport\n",
      "              precision    recall  f1-score   support\n",
      "\n",
      "           0       0.95      1.00      0.98      8163\n",
      "           1       0.57      0.06      0.11       414\n",
      "\n",
      "    accuracy                           0.95      8577\n",
      "   macro avg       0.76      0.53      0.54      8577\n",
      "weighted avg       0.94      0.95      0.93      8577\n",
      "\n",
      "----------------------------------------------\n",
      "buildings\n",
      "              precision    recall  f1-score   support\n",
      "\n",
      "           0       0.95      1.00      0.98      8137\n",
      "           1       0.74      0.12      0.21       440\n",
      "\n",
      "    accuracy                           0.95      8577\n",
      "   macro avg       0.85      0.56      0.59      8577\n",
      "weighted avg       0.94      0.95      0.94      8577\n",
      "\n",
      "----------------------------------------------\n",
      "electricity\n",
      "              precision    recall  f1-score   support\n",
      "\n",
      "           0       0.98      1.00      0.99      8390\n",
      "           1       0.67      0.03      0.06       187\n",
      "\n",
      "    accuracy                           0.98      8577\n",
      "   macro avg       0.82      0.52      0.53      8577\n",
      "weighted avg       0.97      0.98      0.97      8577\n",
      "\n",
      "----------------------------------------------\n",
      "tools\n",
      "              precision    recall  f1-score   support\n",
      "\n",
      "           0       0.99      1.00      1.00      8518\n",
      "           1       0.00      0.00      0.00        59\n",
      "\n",
      "    accuracy                           0.99      8577\n",
      "   macro avg       0.50      0.50      0.50      8577\n",
      "weighted avg       0.99      0.99      0.99      8577\n",
      "\n",
      "----------------------------------------------\n",
      "hospitals\n",
      "              precision    recall  f1-score   support\n",
      "\n",
      "           0       0.99      1.00      0.99      8490\n",
      "           1       0.00      0.00      0.00        87\n",
      "\n",
      "    accuracy                           0.99      8577\n",
      "   macro avg       0.49      0.50      0.50      8577\n",
      "weighted avg       0.98      0.99      0.98      8577\n",
      "\n",
      "----------------------------------------------\n",
      "shops\n",
      "              precision    recall  f1-score   support\n",
      "\n",
      "           0       0.99      1.00      1.00      8532\n",
      "           1       0.00      0.00      0.00        45\n",
      "\n",
      "    accuracy                           0.99      8577\n",
      "   macro avg       0.50      0.50      0.50      8577\n",
      "weighted avg       0.99      0.99      0.99      8577\n",
      "\n",
      "----------------------------------------------\n",
      "aid_centers\n",
      "              precision    recall  f1-score   support\n",
      "\n",
      "           0       0.99      1.00      0.99      8457\n",
      "           1       0.00      0.00      0.00       120\n",
      "\n",
      "    accuracy                           0.99      8577\n",
      "   macro avg       0.49      0.50      0.50      8577\n",
      "weighted avg       0.97      0.99      0.98      8577\n",
      "\n",
      "----------------------------------------------\n",
      "other_infrastructure\n",
      "              precision    recall  f1-score   support\n",
      "\n",
      "           0       0.96      1.00      0.98      8205\n",
      "           1       0.18      0.01      0.01       372\n",
      "\n",
      "    accuracy                           0.96      8577\n",
      "   macro avg       0.57      0.50      0.49      8577\n",
      "weighted avg       0.92      0.96      0.94      8577\n",
      "\n",
      "----------------------------------------------\n",
      "weather_related\n",
      "              precision    recall  f1-score   support\n",
      "\n",
      "           0       0.85      0.95      0.90      6152\n",
      "           1       0.81      0.59      0.68      2425\n",
      "\n",
      "    accuracy                           0.85      8577\n",
      "   macro avg       0.83      0.77      0.79      8577\n",
      "weighted avg       0.84      0.85      0.84      8577\n",
      "\n",
      "----------------------------------------------\n",
      "floods\n",
      "              precision    recall  f1-score   support\n",
      "\n",
      "           0       0.95      1.00      0.97      7868\n",
      "           1       0.92      0.41      0.57       709\n",
      "\n",
      "    accuracy                           0.95      8577\n",
      "   macro avg       0.94      0.70      0.77      8577\n",
      "weighted avg       0.95      0.95      0.94      8577\n",
      "\n",
      "----------------------------------------------\n",
      "storm\n",
      "              precision    recall  f1-score   support\n",
      "\n",
      "           0       0.94      0.99      0.96      7738\n",
      "           1       0.77      0.43      0.55       839\n",
      "\n",
      "    accuracy                           0.93      8577\n",
      "   macro avg       0.86      0.71      0.76      8577\n",
      "weighted avg       0.92      0.93      0.92      8577\n",
      "\n",
      "----------------------------------------------\n",
      "fire\n",
      "              precision    recall  f1-score   support\n",
      "\n",
      "           0       0.99      1.00      1.00      8497\n",
      "           1       0.60      0.04      0.07        80\n",
      "\n",
      "    accuracy                           0.99      8577\n",
      "   macro avg       0.80      0.52      0.53      8577\n",
      "weighted avg       0.99      0.99      0.99      8577\n",
      "\n",
      "----------------------------------------------\n",
      "earthquake\n",
      "              precision    recall  f1-score   support\n",
      "\n",
      "           0       0.96      0.99      0.98      7785\n",
      "           1       0.89      0.64      0.75       792\n",
      "\n",
      "    accuracy                           0.96      8577\n",
      "   macro avg       0.93      0.82      0.86      8577\n",
      "weighted avg       0.96      0.96      0.96      8577\n",
      "\n",
      "----------------------------------------------\n",
      "cold\n",
      "              precision    recall  f1-score   support\n",
      "\n",
      "           0       0.98      1.00      0.99      8413\n",
      "           1       0.62      0.08      0.14       164\n",
      "\n",
      "    accuracy                           0.98      8577\n",
      "   macro avg       0.80      0.54      0.57      8577\n",
      "weighted avg       0.98      0.98      0.97      8577\n",
      "\n",
      "----------------------------------------------\n",
      "other_weather\n",
      "              precision    recall  f1-score   support\n",
      "\n",
      "           0       0.95      1.00      0.97      8115\n",
      "           1       0.30      0.02      0.04       462\n",
      "\n",
      "    accuracy                           0.94      8577\n",
      "   macro avg       0.62      0.51      0.51      8577\n",
      "weighted avg       0.91      0.94      0.92      8577\n",
      "\n",
      "----------------------------------------------\n",
      "direct_report\n",
      "              precision    recall  f1-score   support\n",
      "\n",
      "           0       0.85      0.97      0.91      6896\n",
      "           1       0.71      0.31      0.43      1681\n",
      "\n",
      "    accuracy                           0.84      8577\n",
      "   macro avg       0.78      0.64      0.67      8577\n",
      "weighted avg       0.82      0.84      0.81      8577\n",
      "\n",
      "----------------------------------------------\n"
     ]
    },
    {
     "name": "stderr",
     "output_type": "stream",
     "text": [
      "/Users/boris/anaconda3/envs/data_sci/lib/python3.8/site-packages/sklearn/metrics/_classification.py:1272: UndefinedMetricWarning: Precision and F-score are ill-defined and being set to 0.0 in labels with no predicted samples. Use `zero_division` parameter to control this behavior.\n",
      "  _warn_prf(average, modifier, msg_start, len(result))\n"
     ]
    }
   ],
   "source": [
    "for i, col in enumerate(Y_test):\n",
    "    print(col)\n",
    "    print(classification_report(Y_test[col], Y_pred_test[:, i]))\n",
    "    print(\"----------------------------------------------\")"
   ]
  },
  {
   "cell_type": "markdown",
   "metadata": {},
   "source": [
    "#### Make reports for each score type (precision, recall, f1-score):\n",
    "Obtain a DataFrame with `category` as index; each row should contain score values for test samples belonging (1), and not belonging (0) to this category. \n",
    "\n",
    "`score_report` function will be defined for obtaining such reports"
   ]
  },
  {
   "cell_type": "code",
   "execution_count": 11,
   "metadata": {},
   "outputs": [],
   "source": [
    "def score_report(Y, Y_pred, score_type, skip_categories=['child_alone']):\n",
    "    '''\n",
    "    Produce a report for a given score type\n",
    "    \n",
    "    :param Y : array-like : test set of target variables\n",
    "    :param Y_test : array-like : test set of target variables\n",
    "    :param score_type : string : may be 'precision' or 'recall' or 'f1-score'\n",
    "    :param skip_categories : list of strings : which categories we do not want to include in our report.\n",
    "        'child_alone' is default, since there are no examples of messages belonging to this category \n",
    "    :return: DataFrame: 'category' as index; each row holds 2 values: scores for samples belonging (1),\n",
    "    and not belonging (0) to this category\n",
    "    '''\n",
    "    if not score_type in ['precision', 'recall', 'f1-score']:\n",
    "        return\n",
    "    \n",
    "    report_df = pd.DataFrame()\n",
    "\n",
    "    for i, category in enumerate(Y):\n",
    "        if category in skip_categories:\n",
    "            continue\n",
    "        # get report for category \n",
    "        cat_report = classification_report(Y[category], Y_pred[:, i], output_dict=True)\n",
    "        # get the part that concerns only score_type  \n",
    "        cat_row = pd.DataFrame(cat_report).loc[score_type][:2]\n",
    "        # add 'category' value\n",
    "        cat_row['category'] = category \n",
    "        # append to final report\n",
    "        report_df = report_df.append(cat_row, sort=False)\n",
    "\n",
    "    # set 'category' as index and return resulting DataFrame\n",
    "    return report_df.set_index(['category'])\n",
    "    \n",
    "    "
   ]
  },
  {
   "cell_type": "code",
   "execution_count": 12,
   "metadata": {},
   "outputs": [
    {
     "data": {
      "text/html": [
       "<div>\n",
       "<style scoped>\n",
       "    .dataframe tbody tr th:only-of-type {\n",
       "        vertical-align: middle;\n",
       "    }\n",
       "\n",
       "    .dataframe tbody tr th {\n",
       "        vertical-align: top;\n",
       "    }\n",
       "\n",
       "    .dataframe thead th {\n",
       "        text-align: right;\n",
       "    }\n",
       "</style>\n",
       "<table border=\"1\" class=\"dataframe\">\n",
       "  <thead>\n",
       "    <tr style=\"text-align: right;\">\n",
       "      <th></th>\n",
       "      <th>0</th>\n",
       "      <th>1</th>\n",
       "    </tr>\n",
       "    <tr>\n",
       "      <th>category</th>\n",
       "      <th></th>\n",
       "      <th></th>\n",
       "    </tr>\n",
       "  </thead>\n",
       "  <tbody>\n",
       "    <tr>\n",
       "      <th>related</th>\n",
       "      <td>0.611570</td>\n",
       "      <td>0.848515</td>\n",
       "    </tr>\n",
       "    <tr>\n",
       "      <th>request</th>\n",
       "      <td>0.891170</td>\n",
       "      <td>0.782190</td>\n",
       "    </tr>\n",
       "    <tr>\n",
       "      <th>offer</th>\n",
       "      <td>0.995336</td>\n",
       "      <td>1.000000</td>\n",
       "    </tr>\n",
       "    <tr>\n",
       "      <th>aid_related</th>\n",
       "      <td>0.734993</td>\n",
       "      <td>0.761150</td>\n",
       "    </tr>\n",
       "    <tr>\n",
       "      <th>medical_help</th>\n",
       "      <td>0.923323</td>\n",
       "      <td>0.531746</td>\n",
       "    </tr>\n",
       "    <tr>\n",
       "      <th>medical_products</th>\n",
       "      <td>0.951434</td>\n",
       "      <td>0.656250</td>\n",
       "    </tr>\n",
       "    <tr>\n",
       "      <th>search_and_rescue</th>\n",
       "      <td>0.975290</td>\n",
       "      <td>0.605263</td>\n",
       "    </tr>\n",
       "    <tr>\n",
       "      <th>security</th>\n",
       "      <td>0.981447</td>\n",
       "      <td>0.285714</td>\n",
       "    </tr>\n",
       "    <tr>\n",
       "      <th>military</th>\n",
       "      <td>0.969942</td>\n",
       "      <td>0.777778</td>\n",
       "    </tr>\n",
       "    <tr>\n",
       "      <th>water</th>\n",
       "      <td>0.954286</td>\n",
       "      <td>0.813559</td>\n",
       "    </tr>\n",
       "  </tbody>\n",
       "</table>\n",
       "</div>"
      ],
      "text/plain": [
       "                          0         1\n",
       "category                             \n",
       "related            0.611570  0.848515\n",
       "request            0.891170  0.782190\n",
       "offer              0.995336  1.000000\n",
       "aid_related        0.734993  0.761150\n",
       "medical_help       0.923323  0.531746\n",
       "medical_products   0.951434  0.656250\n",
       "search_and_rescue  0.975290  0.605263\n",
       "security           0.981447  0.285714\n",
       "military           0.969942  0.777778\n",
       "water              0.954286  0.813559"
      ]
     },
     "execution_count": 12,
     "metadata": {},
     "output_type": "execute_result"
    }
   ],
   "source": [
    "# Make Precision report\n",
    "precision_report = score_report(Y_test, Y_pred_test, 'precision')\n",
    "precision_report.head(10)"
   ]
  },
  {
   "cell_type": "code",
   "execution_count": 13,
   "metadata": {},
   "outputs": [
    {
     "data": {
      "image/png": "[encoded data removed]",
      "text/plain": [
       "<Figure size 1440x360 with 1 Axes>"
      ]
     },
     "metadata": {
      "needs_background": "light"
     },
     "output_type": "display_data"
    }
   ],
   "source": [
    "precision_report.plot.bar(title='Precision by Categories', figsize=(20,5));"
   ]
  },
  {
   "cell_type": "code",
   "execution_count": 14,
   "metadata": {},
   "outputs": [
    {
     "name": "stderr",
     "output_type": "stream",
     "text": [
      "/Users/boris/anaconda3/envs/data_sci/lib/python3.8/site-packages/sklearn/metrics/_classification.py:1272: UndefinedMetricWarning: Precision and F-score are ill-defined and being set to 0.0 in labels with no predicted samples. Use `zero_division` parameter to control this behavior.\n",
      "  _warn_prf(average, modifier, msg_start, len(result))\n"
     ]
    },
    {
     "data": {
      "image/png": "[encoded data removed]",
      "text/plain": [
       "<Figure size 1440x360 with 1 Axes>"
      ]
     },
     "metadata": {
      "needs_background": "light"
     },
     "output_type": "display_data"
    }
   ],
   "source": [
    "# Make Recall report\n",
    "score_report(Y_test, Y_pred_test, 'recall').plot.bar(title='Recall by Categories', figsize=(20,5));"
   ]
  },
  {
   "cell_type": "code",
   "execution_count": 15,
   "metadata": {
    "scrolled": true
   },
   "outputs": [
    {
     "data": {
      "image/png": "[encoded data removed]",
      "text/plain": [
       "<Figure size 1440x360 with 1 Axes>"
      ]
     },
     "metadata": {
      "needs_background": "light"
     },
     "output_type": "display_data"
    }
   ],
   "source": [
    "# Make F1-score report\n",
    "score_report(Y_test, Y_pred_test, 'f1-score').plot.bar(title='F1-Score by Categories', figsize=(20,5));"
   ]
  },
  {
   "cell_type": "markdown",
   "metadata": {},
   "source": [
    "For most categories, the class representation is severely disbalanced: too few positive examples. Hence we see that scores are much worse for positive test examples.  "
   ]
  },
  {
   "cell_type": "code",
   "execution_count": null,
   "metadata": {},
   "outputs": [],
   "source": []
  },
  {
   "cell_type": "markdown",
   "metadata": {},
   "source": [
    "### 6. Improve your model\n",
    "Use grid search to find better parameters. "
   ]
  },
  {
   "cell_type": "code",
   "execution_count": 16,
   "metadata": {},
   "outputs": [],
   "source": [
    "parameters = {\n",
    "    'tfidf__ngram_range': ((1, 1), (1, 2)),\n",
    "    'tfidf__max_df': (0.75, 1.0),\n",
    "    'forest__estimator__n_estimators': [6, 10, 14],\n",
    "    'forest__estimator__min_samples_split': [2, 4]\n",
    "}\n",
    "\n",
    "cv = GridSearchCV(pipeline, parameters, cv=3, verbose=3)\n"
   ]
  },
  {
   "cell_type": "code",
   "execution_count": 17,
   "metadata": {
    "scrolled": true
   },
   "outputs": [
    {
     "name": "stdout",
     "output_type": "stream",
     "text": [
      "Fitting 3 folds for each of 24 candidates, totalling 72 fits\n",
      "[CV] forest__estimator__min_samples_split=2, forest__estimator__n_estimators=6, tfidf__max_df=0.75, tfidf__ngram_range=(1, 1) \n"
     ]
    },
    {
     "name": "stderr",
     "output_type": "stream",
     "text": [
      "[Parallel(n_jobs=1)]: Using backend SequentialBackend with 1 concurrent workers.\n"
     ]
    },
    {
     "name": "stdout",
     "output_type": "stream",
     "text": [
      "[CV]  forest__estimator__min_samples_split=2, forest__estimator__n_estimators=6, tfidf__max_df=0.75, tfidf__ngram_range=(1, 1), score=0.231, total= 1.3min\n",
      "[CV] forest__estimator__min_samples_split=2, forest__estimator__n_estimators=6, tfidf__max_df=0.75, tfidf__ngram_range=(1, 1) \n"
     ]
    },
    {
     "name": "stderr",
     "output_type": "stream",
     "text": [
      "[Parallel(n_jobs=1)]: Done   1 out of   1 | elapsed:  1.3min remaining:    0.0s\n"
     ]
    },
    {
     "name": "stdout",
     "output_type": "stream",
     "text": [
      "[CV]  forest__estimator__min_samples_split=2, forest__estimator__n_estimators=6, tfidf__max_df=0.75, tfidf__ngram_range=(1, 1), score=0.232, total= 1.3min\n",
      "[CV] forest__estimator__min_samples_split=2, forest__estimator__n_estimators=6, tfidf__max_df=0.75, tfidf__ngram_range=(1, 1) \n"
     ]
    },
    {
     "name": "stderr",
     "output_type": "stream",
     "text": [
      "[Parallel(n_jobs=1)]: Done   2 out of   2 | elapsed:  2.6min remaining:    0.0s\n"
     ]
    },
    {
     "name": "stdout",
     "output_type": "stream",
     "text": [
      "[CV]  forest__estimator__min_samples_split=2, forest__estimator__n_estimators=6, tfidf__max_df=0.75, tfidf__ngram_range=(1, 1), score=0.229, total= 1.3min\n",
      "[CV] forest__estimator__min_samples_split=2, forest__estimator__n_estimators=6, tfidf__max_df=0.75, tfidf__ngram_range=(1, 2) \n",
      "[CV]  forest__estimator__min_samples_split=2, forest__estimator__n_estimators=6, tfidf__max_df=0.75, tfidf__ngram_range=(1, 2), score=0.241, total= 1.9min\n",
      "[CV] forest__estimator__min_samples_split=2, forest__estimator__n_estimators=6, tfidf__max_df=0.75, tfidf__ngram_range=(1, 2) \n",
      "[CV]  forest__estimator__min_samples_split=2, forest__estimator__n_estimators=6, tfidf__max_df=0.75, tfidf__ngram_range=(1, 2), score=0.239, total= 1.7min\n",
      "[CV] forest__estimator__min_samples_split=2, forest__estimator__n_estimators=6, tfidf__max_df=0.75, tfidf__ngram_range=(1, 2) \n",
      "[CV]  forest__estimator__min_samples_split=2, forest__estimator__n_estimators=6, tfidf__max_df=0.75, tfidf__ngram_range=(1, 2), score=0.225, total= 2.0min\n",
      "[CV] forest__estimator__min_samples_split=2, forest__estimator__n_estimators=6, tfidf__max_df=1.0, tfidf__ngram_range=(1, 1) \n",
      "[CV]  forest__estimator__min_samples_split=2, forest__estimator__n_estimators=6, tfidf__max_df=1.0, tfidf__ngram_range=(1, 1), score=0.224, total= 1.3min\n",
      "[CV] forest__estimator__min_samples_split=2, forest__estimator__n_estimators=6, tfidf__max_df=1.0, tfidf__ngram_range=(1, 1) \n",
      "[CV]  forest__estimator__min_samples_split=2, forest__estimator__n_estimators=6, tfidf__max_df=1.0, tfidf__ngram_range=(1, 1), score=0.228, total= 1.3min\n",
      "[CV] forest__estimator__min_samples_split=2, forest__estimator__n_estimators=6, tfidf__max_df=1.0, tfidf__ngram_range=(1, 1) \n",
      "[CV]  forest__estimator__min_samples_split=2, forest__estimator__n_estimators=6, tfidf__max_df=1.0, tfidf__ngram_range=(1, 1), score=0.226, total= 1.3min\n",
      "[CV] forest__estimator__min_samples_split=2, forest__estimator__n_estimators=6, tfidf__max_df=1.0, tfidf__ngram_range=(1, 2) \n",
      "[CV]  forest__estimator__min_samples_split=2, forest__estimator__n_estimators=6, tfidf__max_df=1.0, tfidf__ngram_range=(1, 2), score=0.226, total= 2.0min\n",
      "[CV] forest__estimator__min_samples_split=2, forest__estimator__n_estimators=6, tfidf__max_df=1.0, tfidf__ngram_range=(1, 2) \n",
      "[CV]  forest__estimator__min_samples_split=2, forest__estimator__n_estimators=6, tfidf__max_df=1.0, tfidf__ngram_range=(1, 2), score=0.239, total= 1.5min\n",
      "[CV] forest__estimator__min_samples_split=2, forest__estimator__n_estimators=6, tfidf__max_df=1.0, tfidf__ngram_range=(1, 2) \n",
      "[CV]  forest__estimator__min_samples_split=2, forest__estimator__n_estimators=6, tfidf__max_df=1.0, tfidf__ngram_range=(1, 2), score=0.222, total= 1.9min\n",
      "[CV] forest__estimator__min_samples_split=2, forest__estimator__n_estimators=10, tfidf__max_df=0.75, tfidf__ngram_range=(1, 1) \n",
      "[CV]  forest__estimator__min_samples_split=2, forest__estimator__n_estimators=10, tfidf__max_df=0.75, tfidf__ngram_range=(1, 1), score=0.233, total= 1.4min\n",
      "[CV] forest__estimator__min_samples_split=2, forest__estimator__n_estimators=10, tfidf__max_df=0.75, tfidf__ngram_range=(1, 1) \n",
      "[CV]  forest__estimator__min_samples_split=2, forest__estimator__n_estimators=10, tfidf__max_df=0.75, tfidf__ngram_range=(1, 1), score=0.244, total= 1.4min\n",
      "[CV] forest__estimator__min_samples_split=2, forest__estimator__n_estimators=10, tfidf__max_df=0.75, tfidf__ngram_range=(1, 1) \n",
      "[CV]  forest__estimator__min_samples_split=2, forest__estimator__n_estimators=10, tfidf__max_df=0.75, tfidf__ngram_range=(1, 1), score=0.241, total= 1.4min\n",
      "[CV] forest__estimator__min_samples_split=2, forest__estimator__n_estimators=10, tfidf__max_df=0.75, tfidf__ngram_range=(1, 2) \n",
      "[CV]  forest__estimator__min_samples_split=2, forest__estimator__n_estimators=10, tfidf__max_df=0.75, tfidf__ngram_range=(1, 2), score=0.241, total= 2.1min\n",
      "[CV] forest__estimator__min_samples_split=2, forest__estimator__n_estimators=10, tfidf__max_df=0.75, tfidf__ngram_range=(1, 2) \n",
      "[CV]  forest__estimator__min_samples_split=2, forest__estimator__n_estimators=10, tfidf__max_df=0.75, tfidf__ngram_range=(1, 2), score=0.251, total= 2.1min\n",
      "[CV] forest__estimator__min_samples_split=2, forest__estimator__n_estimators=10, tfidf__max_df=0.75, tfidf__ngram_range=(1, 2) \n",
      "[CV]  forest__estimator__min_samples_split=2, forest__estimator__n_estimators=10, tfidf__max_df=0.75, tfidf__ngram_range=(1, 2), score=0.236, total= 2.2min\n",
      "[CV] forest__estimator__min_samples_split=2, forest__estimator__n_estimators=10, tfidf__max_df=1.0, tfidf__ngram_range=(1, 1) \n",
      "[CV]  forest__estimator__min_samples_split=2, forest__estimator__n_estimators=10, tfidf__max_df=1.0, tfidf__ngram_range=(1, 1), score=0.230, total= 1.4min\n",
      "[CV] forest__estimator__min_samples_split=2, forest__estimator__n_estimators=10, tfidf__max_df=1.0, tfidf__ngram_range=(1, 1) \n",
      "[CV]  forest__estimator__min_samples_split=2, forest__estimator__n_estimators=10, tfidf__max_df=1.0, tfidf__ngram_range=(1, 1), score=0.251, total= 1.4min\n",
      "[CV] forest__estimator__min_samples_split=2, forest__estimator__n_estimators=10, tfidf__max_df=1.0, tfidf__ngram_range=(1, 1) \n",
      "[CV]  forest__estimator__min_samples_split=2, forest__estimator__n_estimators=10, tfidf__max_df=1.0, tfidf__ngram_range=(1, 1), score=0.239, total= 1.4min\n",
      "[CV] forest__estimator__min_samples_split=2, forest__estimator__n_estimators=10, tfidf__max_df=1.0, tfidf__ngram_range=(1, 2) \n",
      "[CV]  forest__estimator__min_samples_split=2, forest__estimator__n_estimators=10, tfidf__max_df=1.0, tfidf__ngram_range=(1, 2), score=0.242, total= 2.3min\n",
      "[CV] forest__estimator__min_samples_split=2, forest__estimator__n_estimators=10, tfidf__max_df=1.0, tfidf__ngram_range=(1, 2) \n",
      "[CV]  forest__estimator__min_samples_split=2, forest__estimator__n_estimators=10, tfidf__max_df=1.0, tfidf__ngram_range=(1, 2), score=0.258, total= 2.2min\n",
      "[CV] forest__estimator__min_samples_split=2, forest__estimator__n_estimators=10, tfidf__max_df=1.0, tfidf__ngram_range=(1, 2) \n",
      "[CV]  forest__estimator__min_samples_split=2, forest__estimator__n_estimators=10, tfidf__max_df=1.0, tfidf__ngram_range=(1, 2), score=0.238, total= 2.1min\n",
      "[CV] forest__estimator__min_samples_split=2, forest__estimator__n_estimators=14, tfidf__max_df=0.75, tfidf__ngram_range=(1, 1) \n",
      "[CV]  forest__estimator__min_samples_split=2, forest__estimator__n_estimators=14, tfidf__max_df=0.75, tfidf__ngram_range=(1, 1), score=0.238, total= 1.5min\n",
      "[CV] forest__estimator__min_samples_split=2, forest__estimator__n_estimators=14, tfidf__max_df=0.75, tfidf__ngram_range=(1, 1) \n",
      "[CV]  forest__estimator__min_samples_split=2, forest__estimator__n_estimators=14, tfidf__max_df=0.75, tfidf__ngram_range=(1, 1), score=0.254, total= 1.5min\n",
      "[CV] forest__estimator__min_samples_split=2, forest__estimator__n_estimators=14, tfidf__max_df=0.75, tfidf__ngram_range=(1, 1) \n",
      "[CV]  forest__estimator__min_samples_split=2, forest__estimator__n_estimators=14, tfidf__max_df=0.75, tfidf__ngram_range=(1, 1), score=0.246, total= 1.5min\n",
      "[CV] forest__estimator__min_samples_split=2, forest__estimator__n_estimators=14, tfidf__max_df=0.75, tfidf__ngram_range=(1, 2) \n",
      "[CV]  forest__estimator__min_samples_split=2, forest__estimator__n_estimators=14, tfidf__max_df=0.75, tfidf__ngram_range=(1, 2), score=0.237, total= 2.5min\n",
      "[CV] forest__estimator__min_samples_split=2, forest__estimator__n_estimators=14, tfidf__max_df=0.75, tfidf__ngram_range=(1, 2) \n",
      "[CV]  forest__estimator__min_samples_split=2, forest__estimator__n_estimators=14, tfidf__max_df=0.75, tfidf__ngram_range=(1, 2), score=0.251, total= 2.4min\n",
      "[CV] forest__estimator__min_samples_split=2, forest__estimator__n_estimators=14, tfidf__max_df=0.75, tfidf__ngram_range=(1, 2) \n",
      "[CV]  forest__estimator__min_samples_split=2, forest__estimator__n_estimators=14, tfidf__max_df=0.75, tfidf__ngram_range=(1, 2), score=0.246, total= 2.1min\n",
      "[CV] forest__estimator__min_samples_split=2, forest__estimator__n_estimators=14, tfidf__max_df=1.0, tfidf__ngram_range=(1, 1) \n",
      "[CV]  forest__estimator__min_samples_split=2, forest__estimator__n_estimators=14, tfidf__max_df=1.0, tfidf__ngram_range=(1, 1), score=0.242, total= 1.5min\n",
      "[CV] forest__estimator__min_samples_split=2, forest__estimator__n_estimators=14, tfidf__max_df=1.0, tfidf__ngram_range=(1, 1) \n",
      "[CV]  forest__estimator__min_samples_split=2, forest__estimator__n_estimators=14, tfidf__max_df=1.0, tfidf__ngram_range=(1, 1), score=0.260, total= 1.5min\n",
      "[CV] forest__estimator__min_samples_split=2, forest__estimator__n_estimators=14, tfidf__max_df=1.0, tfidf__ngram_range=(1, 1) \n"
     ]
    },
    {
     "name": "stdout",
     "output_type": "stream",
     "text": [
      "[CV]  forest__estimator__min_samples_split=2, forest__estimator__n_estimators=14, tfidf__max_df=1.0, tfidf__ngram_range=(1, 1), score=0.253, total= 1.5min\n",
      "[CV] forest__estimator__min_samples_split=2, forest__estimator__n_estimators=14, tfidf__max_df=1.0, tfidf__ngram_range=(1, 2) \n",
      "[CV]  forest__estimator__min_samples_split=2, forest__estimator__n_estimators=14, tfidf__max_df=1.0, tfidf__ngram_range=(1, 2), score=0.251, total= 2.3min\n",
      "[CV] forest__estimator__min_samples_split=2, forest__estimator__n_estimators=14, tfidf__max_df=1.0, tfidf__ngram_range=(1, 2) \n",
      "[CV]  forest__estimator__min_samples_split=2, forest__estimator__n_estimators=14, tfidf__max_df=1.0, tfidf__ngram_range=(1, 2), score=0.252, total= 2.5min\n",
      "[CV] forest__estimator__min_samples_split=2, forest__estimator__n_estimators=14, tfidf__max_df=1.0, tfidf__ngram_range=(1, 2) \n",
      "[CV]  forest__estimator__min_samples_split=2, forest__estimator__n_estimators=14, tfidf__max_df=1.0, tfidf__ngram_range=(1, 2), score=0.243, total= 2.5min\n",
      "[CV] forest__estimator__min_samples_split=4, forest__estimator__n_estimators=6, tfidf__max_df=0.75, tfidf__ngram_range=(1, 1) \n",
      "[CV]  forest__estimator__min_samples_split=4, forest__estimator__n_estimators=6, tfidf__max_df=0.75, tfidf__ngram_range=(1, 1), score=0.214, total= 1.3min\n",
      "[CV] forest__estimator__min_samples_split=4, forest__estimator__n_estimators=6, tfidf__max_df=0.75, tfidf__ngram_range=(1, 1) \n",
      "[CV]  forest__estimator__min_samples_split=4, forest__estimator__n_estimators=6, tfidf__max_df=0.75, tfidf__ngram_range=(1, 1), score=0.219, total= 1.3min\n",
      "[CV] forest__estimator__min_samples_split=4, forest__estimator__n_estimators=6, tfidf__max_df=0.75, tfidf__ngram_range=(1, 1) \n",
      "[CV]  forest__estimator__min_samples_split=4, forest__estimator__n_estimators=6, tfidf__max_df=0.75, tfidf__ngram_range=(1, 1), score=0.223, total= 1.3min\n",
      "[CV] forest__estimator__min_samples_split=4, forest__estimator__n_estimators=6, tfidf__max_df=0.75, tfidf__ngram_range=(1, 2) \n",
      "[CV]  forest__estimator__min_samples_split=4, forest__estimator__n_estimators=6, tfidf__max_df=0.75, tfidf__ngram_range=(1, 2), score=0.210, total= 1.9min\n",
      "[CV] forest__estimator__min_samples_split=4, forest__estimator__n_estimators=6, tfidf__max_df=0.75, tfidf__ngram_range=(1, 2) \n",
      "[CV]  forest__estimator__min_samples_split=4, forest__estimator__n_estimators=6, tfidf__max_df=0.75, tfidf__ngram_range=(1, 2), score=0.239, total= 1.9min\n",
      "[CV] forest__estimator__min_samples_split=4, forest__estimator__n_estimators=6, tfidf__max_df=0.75, tfidf__ngram_range=(1, 2) \n",
      "[CV]  forest__estimator__min_samples_split=4, forest__estimator__n_estimators=6, tfidf__max_df=0.75, tfidf__ngram_range=(1, 2), score=0.220, total= 1.9min\n",
      "[CV] forest__estimator__min_samples_split=4, forest__estimator__n_estimators=6, tfidf__max_df=1.0, tfidf__ngram_range=(1, 1) \n",
      "[CV]  forest__estimator__min_samples_split=4, forest__estimator__n_estimators=6, tfidf__max_df=1.0, tfidf__ngram_range=(1, 1), score=0.214, total= 1.3min\n",
      "[CV] forest__estimator__min_samples_split=4, forest__estimator__n_estimators=6, tfidf__max_df=1.0, tfidf__ngram_range=(1, 1) \n",
      "[CV]  forest__estimator__min_samples_split=4, forest__estimator__n_estimators=6, tfidf__max_df=1.0, tfidf__ngram_range=(1, 1), score=0.223, total= 1.3min\n",
      "[CV] forest__estimator__min_samples_split=4, forest__estimator__n_estimators=6, tfidf__max_df=1.0, tfidf__ngram_range=(1, 1) \n",
      "[CV]  forest__estimator__min_samples_split=4, forest__estimator__n_estimators=6, tfidf__max_df=1.0, tfidf__ngram_range=(1, 1), score=0.216, total= 1.3min\n",
      "[CV] forest__estimator__min_samples_split=4, forest__estimator__n_estimators=6, tfidf__max_df=1.0, tfidf__ngram_range=(1, 2) \n",
      "[CV]  forest__estimator__min_samples_split=4, forest__estimator__n_estimators=6, tfidf__max_df=1.0, tfidf__ngram_range=(1, 2), score=0.217, total= 1.9min\n",
      "[CV] forest__estimator__min_samples_split=4, forest__estimator__n_estimators=6, tfidf__max_df=1.0, tfidf__ngram_range=(1, 2) \n",
      "[CV]  forest__estimator__min_samples_split=4, forest__estimator__n_estimators=6, tfidf__max_df=1.0, tfidf__ngram_range=(1, 2), score=0.229, total= 1.9min\n",
      "[CV] forest__estimator__min_samples_split=4, forest__estimator__n_estimators=6, tfidf__max_df=1.0, tfidf__ngram_range=(1, 2) \n",
      "[CV]  forest__estimator__min_samples_split=4, forest__estimator__n_estimators=6, tfidf__max_df=1.0, tfidf__ngram_range=(1, 2), score=0.213, total= 2.1min\n",
      "[CV] forest__estimator__min_samples_split=4, forest__estimator__n_estimators=10, tfidf__max_df=0.75, tfidf__ngram_range=(1, 1) \n",
      "[CV]  forest__estimator__min_samples_split=4, forest__estimator__n_estimators=10, tfidf__max_df=0.75, tfidf__ngram_range=(1, 1), score=0.239, total= 1.4min\n",
      "[CV] forest__estimator__min_samples_split=4, forest__estimator__n_estimators=10, tfidf__max_df=0.75, tfidf__ngram_range=(1, 1) \n",
      "[CV]  forest__estimator__min_samples_split=4, forest__estimator__n_estimators=10, tfidf__max_df=0.75, tfidf__ngram_range=(1, 1), score=0.230, total= 1.4min\n",
      "[CV] forest__estimator__min_samples_split=4, forest__estimator__n_estimators=10, tfidf__max_df=0.75, tfidf__ngram_range=(1, 1) \n",
      "[CV]  forest__estimator__min_samples_split=4, forest__estimator__n_estimators=10, tfidf__max_df=0.75, tfidf__ngram_range=(1, 1), score=0.237, total= 1.3min\n",
      "[CV] forest__estimator__min_samples_split=4, forest__estimator__n_estimators=10, tfidf__max_df=0.75, tfidf__ngram_range=(1, 2) \n",
      "[CV]  forest__estimator__min_samples_split=4, forest__estimator__n_estimators=10, tfidf__max_df=0.75, tfidf__ngram_range=(1, 2), score=0.230, total= 2.0min\n",
      "[CV] forest__estimator__min_samples_split=4, forest__estimator__n_estimators=10, tfidf__max_df=0.75, tfidf__ngram_range=(1, 2) \n",
      "[CV]  forest__estimator__min_samples_split=4, forest__estimator__n_estimators=10, tfidf__max_df=0.75, tfidf__ngram_range=(1, 2), score=0.240, total= 2.0min\n",
      "[CV] forest__estimator__min_samples_split=4, forest__estimator__n_estimators=10, tfidf__max_df=0.75, tfidf__ngram_range=(1, 2) \n",
      "[CV]  forest__estimator__min_samples_split=4, forest__estimator__n_estimators=10, tfidf__max_df=0.75, tfidf__ngram_range=(1, 2), score=0.242, total= 2.0min\n",
      "[CV] forest__estimator__min_samples_split=4, forest__estimator__n_estimators=10, tfidf__max_df=1.0, tfidf__ngram_range=(1, 1) \n",
      "[CV]  forest__estimator__min_samples_split=4, forest__estimator__n_estimators=10, tfidf__max_df=1.0, tfidf__ngram_range=(1, 1), score=0.226, total= 1.4min\n",
      "[CV] forest__estimator__min_samples_split=4, forest__estimator__n_estimators=10, tfidf__max_df=1.0, tfidf__ngram_range=(1, 1) \n",
      "[CV]  forest__estimator__min_samples_split=4, forest__estimator__n_estimators=10, tfidf__max_df=1.0, tfidf__ngram_range=(1, 1), score=0.239, total= 1.3min\n",
      "[CV] forest__estimator__min_samples_split=4, forest__estimator__n_estimators=10, tfidf__max_df=1.0, tfidf__ngram_range=(1, 1) \n",
      "[CV]  forest__estimator__min_samples_split=4, forest__estimator__n_estimators=10, tfidf__max_df=1.0, tfidf__ngram_range=(1, 1), score=0.233, total= 1.4min\n",
      "[CV] forest__estimator__min_samples_split=4, forest__estimator__n_estimators=10, tfidf__max_df=1.0, tfidf__ngram_range=(1, 2) \n",
      "[CV]  forest__estimator__min_samples_split=4, forest__estimator__n_estimators=10, tfidf__max_df=1.0, tfidf__ngram_range=(1, 2), score=0.227, total= 2.0min\n",
      "[CV] forest__estimator__min_samples_split=4, forest__estimator__n_estimators=10, tfidf__max_df=1.0, tfidf__ngram_range=(1, 2) \n",
      "[CV]  forest__estimator__min_samples_split=4, forest__estimator__n_estimators=10, tfidf__max_df=1.0, tfidf__ngram_range=(1, 2), score=0.241, total= 1.6min\n",
      "[CV] forest__estimator__min_samples_split=4, forest__estimator__n_estimators=10, tfidf__max_df=1.0, tfidf__ngram_range=(1, 2) \n",
      "[CV]  forest__estimator__min_samples_split=4, forest__estimator__n_estimators=10, tfidf__max_df=1.0, tfidf__ngram_range=(1, 2), score=0.240, total= 1.6min\n",
      "[CV] forest__estimator__min_samples_split=4, forest__estimator__n_estimators=14, tfidf__max_df=0.75, tfidf__ngram_range=(1, 1) \n",
      "[CV]  forest__estimator__min_samples_split=4, forest__estimator__n_estimators=14, tfidf__max_df=0.75, tfidf__ngram_range=(1, 1), score=0.245, total= 1.5min\n",
      "[CV] forest__estimator__min_samples_split=4, forest__estimator__n_estimators=14, tfidf__max_df=0.75, tfidf__ngram_range=(1, 1) \n",
      "[CV]  forest__estimator__min_samples_split=4, forest__estimator__n_estimators=14, tfidf__max_df=0.75, tfidf__ngram_range=(1, 1), score=0.242, total= 1.4min\n",
      "[CV] forest__estimator__min_samples_split=4, forest__estimator__n_estimators=14, tfidf__max_df=0.75, tfidf__ngram_range=(1, 1) \n"
     ]
    },
    {
     "name": "stdout",
     "output_type": "stream",
     "text": [
      "[CV]  forest__estimator__min_samples_split=4, forest__estimator__n_estimators=14, tfidf__max_df=0.75, tfidf__ngram_range=(1, 1), score=0.242, total= 1.5min\n",
      "[CV] forest__estimator__min_samples_split=4, forest__estimator__n_estimators=14, tfidf__max_df=0.75, tfidf__ngram_range=(1, 2) \n",
      "[CV]  forest__estimator__min_samples_split=4, forest__estimator__n_estimators=14, tfidf__max_df=0.75, tfidf__ngram_range=(1, 2), score=0.238, total= 2.3min\n",
      "[CV] forest__estimator__min_samples_split=4, forest__estimator__n_estimators=14, tfidf__max_df=0.75, tfidf__ngram_range=(1, 2) \n",
      "[CV]  forest__estimator__min_samples_split=4, forest__estimator__n_estimators=14, tfidf__max_df=0.75, tfidf__ngram_range=(1, 2), score=0.247, total= 2.2min\n",
      "[CV] forest__estimator__min_samples_split=4, forest__estimator__n_estimators=14, tfidf__max_df=0.75, tfidf__ngram_range=(1, 2) \n",
      "[CV]  forest__estimator__min_samples_split=4, forest__estimator__n_estimators=14, tfidf__max_df=0.75, tfidf__ngram_range=(1, 2), score=0.235, total= 2.2min\n",
      "[CV] forest__estimator__min_samples_split=4, forest__estimator__n_estimators=14, tfidf__max_df=1.0, tfidf__ngram_range=(1, 1) \n",
      "[CV]  forest__estimator__min_samples_split=4, forest__estimator__n_estimators=14, tfidf__max_df=1.0, tfidf__ngram_range=(1, 1), score=0.236, total= 1.4min\n",
      "[CV] forest__estimator__min_samples_split=4, forest__estimator__n_estimators=14, tfidf__max_df=1.0, tfidf__ngram_range=(1, 1) \n",
      "[CV]  forest__estimator__min_samples_split=4, forest__estimator__n_estimators=14, tfidf__max_df=1.0, tfidf__ngram_range=(1, 1), score=0.241, total= 1.4min\n",
      "[CV] forest__estimator__min_samples_split=4, forest__estimator__n_estimators=14, tfidf__max_df=1.0, tfidf__ngram_range=(1, 1) \n",
      "[CV]  forest__estimator__min_samples_split=4, forest__estimator__n_estimators=14, tfidf__max_df=1.0, tfidf__ngram_range=(1, 1), score=0.237, total= 1.4min\n",
      "[CV] forest__estimator__min_samples_split=4, forest__estimator__n_estimators=14, tfidf__max_df=1.0, tfidf__ngram_range=(1, 2) \n",
      "[CV]  forest__estimator__min_samples_split=4, forest__estimator__n_estimators=14, tfidf__max_df=1.0, tfidf__ngram_range=(1, 2), score=0.235, total=45.1min\n",
      "[CV] forest__estimator__min_samples_split=4, forest__estimator__n_estimators=14, tfidf__max_df=1.0, tfidf__ngram_range=(1, 2) \n",
      "[CV]  forest__estimator__min_samples_split=4, forest__estimator__n_estimators=14, tfidf__max_df=1.0, tfidf__ngram_range=(1, 2), score=0.251, total= 2.8min\n",
      "[CV] forest__estimator__min_samples_split=4, forest__estimator__n_estimators=14, tfidf__max_df=1.0, tfidf__ngram_range=(1, 2) \n",
      "[CV]  forest__estimator__min_samples_split=4, forest__estimator__n_estimators=14, tfidf__max_df=1.0, tfidf__ngram_range=(1, 2), score=0.237, total= 2.2min\n"
     ]
    },
    {
     "name": "stderr",
     "output_type": "stream",
     "text": [
      "[Parallel(n_jobs=1)]: Done  72 out of  72 | elapsed: 167.8min finished\n"
     ]
    },
    {
     "data": {
      "text/plain": [
       "GridSearchCV(cv=3, error_score=nan,\n",
       "             estimator=Pipeline(memory=None,\n",
       "                                steps=[('tfidf',\n",
       "                                        TfidfVectorizer(analyzer='word',\n",
       "                                                        binary=False,\n",
       "                                                        decode_error='strict',\n",
       "                                                        dtype=<class 'numpy.float64'>,\n",
       "                                                        encoding='utf-8',\n",
       "                                                        input='content',\n",
       "                                                        lowercase=True,\n",
       "                                                        max_df=1.0,\n",
       "                                                        max_features=None,\n",
       "                                                        min_df=1,\n",
       "                                                        ngram_range=(1, 1),\n",
       "                                                        norm='l2',\n",
       "                                                        preprocessor=None,\n",
       "                                                        smooth_idf=True,\n",
       "                                                        stop_words=None,\n",
       "                                                        strip_acc...\n",
       "                                                                                               random_state=None,\n",
       "                                                                                               verbose=0,\n",
       "                                                                                               warm_start=False),\n",
       "                                                              n_jobs=None))],\n",
       "                                verbose=False),\n",
       "             iid='deprecated', n_jobs=None,\n",
       "             param_grid={'forest__estimator__min_samples_split': [2, 4],\n",
       "                         'forest__estimator__n_estimators': [6, 10, 14],\n",
       "                         'tfidf__max_df': (0.75, 1.0),\n",
       "                         'tfidf__ngram_range': ((1, 1), (1, 2))},\n",
       "             pre_dispatch='2*n_jobs', refit=True, return_train_score=False,\n",
       "             scoring=None, verbose=3)"
      ]
     },
     "execution_count": 17,
     "metadata": {},
     "output_type": "execute_result"
    }
   ],
   "source": [
    "cv.fit(X_train, Y_train)"
   ]
  },
  {
   "cell_type": "code",
   "execution_count": null,
   "metadata": {},
   "outputs": [],
   "source": []
  },
  {
   "cell_type": "markdown",
   "metadata": {},
   "source": [
    "### 7. Test your model\n",
    "Show the accuracy, precision, and recall of the tuned model.  \n",
    "\n",
    "Since this project focuses on code quality, process, and  pipelines, there is no minimum performance metric needed to pass. However, make sure to fine tune your models for accuracy, precision and recall to make your project stand out - especially for your portfolio!"
   ]
  },
  {
   "cell_type": "code",
   "execution_count": 18,
   "metadata": {},
   "outputs": [
    {
     "name": "stdout",
     "output_type": "stream",
     "text": [
      "==========  Test Data Scores ===========\n",
      "Accuracy:  0.24915471610120088\n",
      "Precision:  0.7447932538992399\n",
      "Recall:  0.5036988685813751\n",
      "F1 score:  0.5538814508253855\n",
      "\n",
      "==========  Train Data Scores ===========\n",
      "Accuracy:  0.8719848380427292\n"
     ]
    },
    {
     "name": "stderr",
     "output_type": "stream",
     "text": [
      "/Users/boris/anaconda3/envs/data_sci/lib/python3.8/site-packages/sklearn/metrics/_classification.py:1272: UndefinedMetricWarning: Precision is ill-defined and being set to 0.0 in labels with no predicted samples. Use `zero_division` parameter to control this behavior.\n",
      "  _warn_prf(average, modifier, msg_start, len(result))\n"
     ]
    },
    {
     "name": "stdout",
     "output_type": "stream",
     "text": [
      "Precision:  0.9973229641952617\n",
      "Recall:  0.9503928739544484\n",
      "F1 score:  0.9725385062458517\n"
     ]
    }
   ],
   "source": [
    "Y_pred_test_cv, Y_pred_train_cv = test_model(cv, X_train, X_test, Y_train, Y_test)"
   ]
  },
  {
   "cell_type": "code",
   "execution_count": 84,
   "metadata": {},
   "outputs": [
    {
     "name": "stdout",
     "output_type": "stream",
     "text": [
      "Accuracy:  0.26710971202052\n",
      "Precision:  0.768592365844845\n",
      "Recall:  0.5110966057441253\n",
      "F1 score:  0.5591004482220362\n"
     ]
    },
    {
     "name": "stderr",
     "output_type": "stream",
     "text": [
      "d:\\anaconda3\\envs\\tfgpu\\lib\\site-packages\\sklearn\\metrics\\classification.py:1143: UndefinedMetricWarning: Precision is ill-defined and being set to 0.0 in labels with no predicted samples.\n",
      "  'precision', 'predicted', average, warn_for)\n",
      "d:\\anaconda3\\envs\\tfgpu\\lib\\site-packages\\sklearn\\metrics\\classification.py:1145: UndefinedMetricWarning: Recall is ill-defined and being set to 0.0 in labels with no true samples.\n",
      "  'recall', 'true', average, warn_for)\n",
      "d:\\anaconda3\\envs\\tfgpu\\lib\\site-packages\\sklearn\\metrics\\classification.py:1143: UndefinedMetricWarning: F-score is ill-defined and being set to 0.0 in labels with no predicted samples.\n",
      "  'precision', 'predicted', average, warn_for)\n",
      "d:\\anaconda3\\envs\\tfgpu\\lib\\site-packages\\sklearn\\metrics\\classification.py:1145: UndefinedMetricWarning: F-score is ill-defined and being set to 0.0 in labels with no true samples.\n",
      "  'recall', 'true', average, warn_for)\n"
     ]
    }
   ],
   "source": [
    "print('Accuracy: ', accuracy_score(Y_test, Y_pred_cv))\n",
    "print('Precision: ', precision_score(Y_test, Y_pred_cv, average='weighted'))\n",
    "print('Recall: ', recall_score(Y_test, Y_pred_cv, average='weighted'))\n",
    "print('F1 score: ', f1_score(Y_test, Y_pred_cv, average='weighted'))"
   ]
  },
  {
   "cell_type": "code",
   "execution_count": null,
   "metadata": {},
   "outputs": [],
   "source": [
    "We see about 10% improvement, which is sot very inpressive for F1 being ~0.5"
   ]
  },
  {
   "cell_type": "markdown",
   "metadata": {},
   "source": [
    "### 8. Try improving your model further. Here are a few ideas:\n",
    "* try other machine learning algorithms\n",
    "* add other features besides the TF-IDF"
   ]
  },
  {
   "cell_type": "markdown",
   "metadata": {},
   "source": [
    "The new pipeline will include:\n",
    "- TF-IDF vectorizer\n",
    "- Truncated SVD transformation to reduce the feature space dimensionality\n",
    "- KNN clasiifier"
   ]
  },
  {
   "cell_type": "code",
   "execution_count": null,
   "metadata": {},
   "outputs": [],
   "source": [
    "from sklearn.decomposition import TruncatedSVD\n",
    "\n",
    "knn_classifier = KNeighborsClassifier()\n",
    "\n",
    "pipeline_knn = Pipeline([\n",
    "                    ('tfidf', TfidfVectorizer(tokenizer=tokenize)),\n",
    "                    ('truncate', TruncatedSVD(n_components=32)),\n",
    "                    ('knn', MultiOutputClassifier(knn_classifier))\n",
    "                    ])\n",
    "\n",
    "pipeline_knn.fit(X_train, Y_train)"
   ]
  },
  {
   "cell_type": "code",
   "execution_count": null,
   "metadata": {},
   "outputs": [],
   "source": [
    "Y_pred_knn = pipeline_knn.predict(X_test)"
   ]
  },
  {
   "cell_type": "code",
   "execution_count": null,
   "metadata": {},
   "outputs": [],
   "source": []
  },
  {
   "cell_type": "code",
   "execution_count": null,
   "metadata": {},
   "outputs": [],
   "source": []
  },
  {
   "cell_type": "code",
   "execution_count": null,
   "metadata": {},
   "outputs": [],
   "source": []
  },
  {
   "cell_type": "code",
   "execution_count": null,
   "metadata": {},
   "outputs": [],
   "source": []
  },
  {
   "cell_type": "code",
   "execution_count": null,
   "metadata": {},
   "outputs": [],
   "source": []
  },
  {
   "cell_type": "code",
   "execution_count": null,
   "metadata": {},
   "outputs": [],
   "source": []
  },
  {
   "cell_type": "markdown",
   "metadata": {},
   "source": [
    "### 9. Export your model as a pickle file"
   ]
  },
  {
   "cell_type": "code",
   "execution_count": null,
   "metadata": {},
   "outputs": [],
   "source": []
  },
  {
   "cell_type": "markdown",
   "metadata": {},
   "source": [
    "### 10. Use this notebook to complete `train.py`\n",
    "Use the template file attached in the Resources folder to write a script that runs the steps above to create a database and export a model based on a new dataset specified by the user."
   ]
  },
  {
   "cell_type": "code",
   "execution_count": null,
   "metadata": {},
   "outputs": [],
   "source": []
  }
 ],
 "metadata": {
  "kernelspec": {
   "display_name": "Python 3",
   "language": "python",
   "name": "python3"
  },
  "language_info": {
   "codemirror_mode": {
    "name": "ipython",
    "version": 3
   },
   "file_extension": ".py",
   "mimetype": "text/x-python",
   "name": "python",
   "nbconvert_exporter": "python",
   "pygments_lexer": "ipython3",
   "version": "3.8.1"
  }
 },
 "nbformat": 4,
 "nbformat_minor": 2
}
