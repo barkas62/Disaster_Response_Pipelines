{
 "cells": [
  {
   "cell_type": "markdown",
   "metadata": {},
   "source": [
    "# ML Pipeline Preparation\n",
    "Follow the instructions below to help you create your ML pipeline.\n",
    "### 1. Import libraries and load data from database.\n",
    "- Import Python libraries\n",
    "- Load dataset from database with [`read_sql_table`](https://pandas.pydata.org/pandas-docs/stable/generated/pandas.read_sql_table.html)\n",
    "- Define feature and target variables X and Y"
   ]
  },
  {
   "cell_type": "code",
   "execution_count": 4,
   "metadata": {},
   "outputs": [
    {
     "name": "stderr",
     "output_type": "stream",
     "text": [
      "[nltk_data] Downloading package stopwords to\n",
      "[nltk_data]     C:\\Users\\Boris\\AppData\\Roaming\\nltk_data...\n",
      "[nltk_data]   Package stopwords is already up-to-date!\n",
      "[nltk_data] Downloading package wordnet to\n",
      "[nltk_data]     C:\\Users\\Boris\\AppData\\Roaming\\nltk_data...\n",
      "[nltk_data]   Package wordnet is already up-to-date!\n"
     ]
    }
   ],
   "source": [
    "# import libraries\n",
    "import pandas as pd\n",
    "from sqlalchemy import create_engine\n",
    "import re\n",
    "import nltk\n",
    "\n",
    "from nltk.corpus import stopwords\n",
    "from nltk.stem.wordnet import WordNetLemmatizer\n",
    "from nltk.stem.porter import PorterStemmer\n",
    "\n",
    "nltk.download('stopwords')\n",
    "nltk.download('wordnet')\n",
    "\n",
    "from sklearn.model_selection import train_test_split\n",
    "from sklearn.ensemble import RandomForestClassifier\n",
    "from sklearn.feature_extraction.text import TfidfVectorizer\n",
    "from sklearn.multioutput import MultiOutputClassifier\n",
    "from sklearn.pipeline import Pipeline\n",
    "from sklearn.metrics import classification_report\n",
    "from sklearn.metrics import accuracy_score, precision_score, recall_score, f1_score\n",
    "from sklearn.model_selection import GridSearchCV"
   ]
  },
  {
   "cell_type": "code",
   "execution_count": 5,
   "metadata": {},
   "outputs": [
    {
     "data": {
      "text/html": [
       "<div>\n",
       "<style scoped>\n",
       "    .dataframe tbody tr th:only-of-type {\n",
       "        vertical-align: middle;\n",
       "    }\n",
       "\n",
       "    .dataframe tbody tr th {\n",
       "        vertical-align: top;\n",
       "    }\n",
       "\n",
       "    .dataframe thead th {\n",
       "        text-align: right;\n",
       "    }\n",
       "</style>\n",
       "<table border=\"1\" class=\"dataframe\">\n",
       "  <thead>\n",
       "    <tr style=\"text-align: right;\">\n",
       "      <th></th>\n",
       "      <th>id</th>\n",
       "      <th>message</th>\n",
       "      <th>original</th>\n",
       "      <th>genre</th>\n",
       "      <th>related</th>\n",
       "      <th>request</th>\n",
       "      <th>offer</th>\n",
       "      <th>aid_related</th>\n",
       "      <th>medical_help</th>\n",
       "      <th>medical_products</th>\n",
       "      <th>...</th>\n",
       "      <th>aid_centers</th>\n",
       "      <th>other_infrastructure</th>\n",
       "      <th>weather_related</th>\n",
       "      <th>floods</th>\n",
       "      <th>storm</th>\n",
       "      <th>fire</th>\n",
       "      <th>earthquake</th>\n",
       "      <th>cold</th>\n",
       "      <th>other_weather</th>\n",
       "      <th>direct_report</th>\n",
       "    </tr>\n",
       "  </thead>\n",
       "  <tbody>\n",
       "    <tr>\n",
       "      <th>0</th>\n",
       "      <td>2</td>\n",
       "      <td>Weather update - a cold front from Cuba that c...</td>\n",
       "      <td>Un front froid se retrouve sur Cuba ce matin. ...</td>\n",
       "      <td>direct</td>\n",
       "      <td>1</td>\n",
       "      <td>0</td>\n",
       "      <td>0</td>\n",
       "      <td>0</td>\n",
       "      <td>0</td>\n",
       "      <td>0</td>\n",
       "      <td>...</td>\n",
       "      <td>0</td>\n",
       "      <td>0</td>\n",
       "      <td>0</td>\n",
       "      <td>0</td>\n",
       "      <td>0</td>\n",
       "      <td>0</td>\n",
       "      <td>0</td>\n",
       "      <td>0</td>\n",
       "      <td>0</td>\n",
       "      <td>0</td>\n",
       "    </tr>\n",
       "    <tr>\n",
       "      <th>1</th>\n",
       "      <td>7</td>\n",
       "      <td>Is the Hurricane over or is it not over</td>\n",
       "      <td>Cyclone nan fini osinon li pa fini</td>\n",
       "      <td>direct</td>\n",
       "      <td>1</td>\n",
       "      <td>0</td>\n",
       "      <td>0</td>\n",
       "      <td>1</td>\n",
       "      <td>0</td>\n",
       "      <td>0</td>\n",
       "      <td>...</td>\n",
       "      <td>0</td>\n",
       "      <td>0</td>\n",
       "      <td>1</td>\n",
       "      <td>0</td>\n",
       "      <td>1</td>\n",
       "      <td>0</td>\n",
       "      <td>0</td>\n",
       "      <td>0</td>\n",
       "      <td>0</td>\n",
       "      <td>0</td>\n",
       "    </tr>\n",
       "    <tr>\n",
       "      <th>2</th>\n",
       "      <td>8</td>\n",
       "      <td>Looking for someone but no name</td>\n",
       "      <td>Patnm, di Maryani relem pou li banm nouvel li ...</td>\n",
       "      <td>direct</td>\n",
       "      <td>1</td>\n",
       "      <td>0</td>\n",
       "      <td>0</td>\n",
       "      <td>0</td>\n",
       "      <td>0</td>\n",
       "      <td>0</td>\n",
       "      <td>...</td>\n",
       "      <td>0</td>\n",
       "      <td>0</td>\n",
       "      <td>0</td>\n",
       "      <td>0</td>\n",
       "      <td>0</td>\n",
       "      <td>0</td>\n",
       "      <td>0</td>\n",
       "      <td>0</td>\n",
       "      <td>0</td>\n",
       "      <td>0</td>\n",
       "    </tr>\n",
       "  </tbody>\n",
       "</table>\n",
       "<p>3 rows × 39 columns</p>\n",
       "</div>"
      ],
      "text/plain": [
       "   id                                            message  \\\n",
       "0   2  Weather update - a cold front from Cuba that c...   \n",
       "1   7            Is the Hurricane over or is it not over   \n",
       "2   8                    Looking for someone but no name   \n",
       "\n",
       "                                            original   genre  related  \\\n",
       "0  Un front froid se retrouve sur Cuba ce matin. ...  direct        1   \n",
       "1                 Cyclone nan fini osinon li pa fini  direct        1   \n",
       "2  Patnm, di Maryani relem pou li banm nouvel li ...  direct        1   \n",
       "\n",
       "   request  offer  aid_related  medical_help  medical_products  ...  \\\n",
       "0        0      0            0             0                 0  ...   \n",
       "1        0      0            1             0                 0  ...   \n",
       "2        0      0            0             0                 0  ...   \n",
       "\n",
       "   aid_centers  other_infrastructure  weather_related  floods  storm  fire  \\\n",
       "0            0                     0                0       0      0     0   \n",
       "1            0                     0                1       0      1     0   \n",
       "2            0                     0                0       0      0     0   \n",
       "\n",
       "   earthquake  cold  other_weather  direct_report  \n",
       "0           0     0              0              0  \n",
       "1           0     0              0              0  \n",
       "2           0     0              0              0  \n",
       "\n",
       "[3 rows x 39 columns]"
      ]
     },
     "execution_count": 5,
     "metadata": {},
     "output_type": "execute_result"
    }
   ],
   "source": [
    "# load data from database\n",
    "engine = create_engine('sqlite:///DisasterResponse.db')\n",
    "df = pd.read_sql_table('messages_categories', engine)\n",
    "\n",
    "df.head(3)"
   ]
  },
  {
   "cell_type": "markdown",
   "metadata": {},
   "source": [
    "### Extract features (X) and output (Y)"
   ]
  },
  {
   "cell_type": "code",
   "execution_count": 6,
   "metadata": {},
   "outputs": [],
   "source": [
    "# Categories Columnn names  \n",
    "categories_cols = df.columns[4:].tolist()\n",
    "\n",
    "X = df['message']\n",
    "Y = df[categories_cols]"
   ]
  },
  {
   "cell_type": "markdown",
   "metadata": {},
   "source": [
    "### 2. Write a tokenization function to process your text data"
   ]
  },
  {
   "cell_type": "code",
   "execution_count": 7,
   "metadata": {},
   "outputs": [],
   "source": [
    "def tokenize(text):\n",
    "    # Normalize text: leave decapitalized letters and digits only\n",
    "    text = re.sub(r\"[^a-zA-Z0-9]\", \" \", text.lower())\n",
    "    \n",
    "    # Split into words\n",
    "    words = text.split()\n",
    "    \n",
    "    # Remove stop words\n",
    "    words = [w for w in words if w not in stopwords.words(\"english\")]\n",
    "    \n",
    "    # Reduce words to their root form\n",
    "    lemmed = [WordNetLemmatizer().lemmatize(w) for w in words]\n",
    "    \n",
    "    # Reduce words to their stems\n",
    "    stemmed = [PorterStemmer().stem(w) for w in lemmed]\n",
    "    \n",
    "    return stemmed"
   ]
  },
  {
   "cell_type": "code",
   "execution_count": 8,
   "metadata": {},
   "outputs": [
    {
     "name": "stdout",
     "output_type": "stream",
     "text": [
      "Source text:\n",
      "Weather update - a cold front from Cuba that could pass over Haiti\n",
      "Tokens:\n",
      "['weather', 'updat', 'cold', 'front', 'cuba', 'could', 'pa', 'haiti']\n",
      "------------------------------\n",
      "Source text:\n",
      "Is the Hurricane over or is it not over\n",
      "Tokens:\n",
      "['hurrican']\n",
      "------------------------------\n",
      "Source text:\n",
      "Looking for someone but no name\n",
      "Tokens:\n",
      "['look', 'someon', 'name']\n",
      "------------------------------\n",
      "Source text:\n",
      "UN reports Leogane 80-90 destroyed. Only Hospital St. Croix functioning. Needs supplies desperately.\n",
      "Tokens:\n",
      "['un', 'report', 'leogan', '80', '90', 'destroy', 'hospit', 'st', 'croix', 'function', 'need', 'suppli', 'desper']\n",
      "------------------------------\n",
      "Source text:\n",
      "says: west side of Haiti, rest of the country today and tonight\n",
      "Tokens:\n",
      "['say', 'west', 'side', 'haiti', 'rest', 'countri', 'today', 'tonight']\n",
      "------------------------------\n"
     ]
    }
   ],
   "source": [
    "# Test tokenize (use 5 first message texts)\n",
    "\n",
    "for i in range(5):\n",
    "    text = X[i]\n",
    "    print(\"Source text:\\n\" + text)\n",
    "    tokens = tokenize(text)\n",
    "    print(\"Tokens:\\n\" + str(tokens))\n",
    "    print(\"------------------------------\")"
   ]
  },
  {
   "cell_type": "markdown",
   "metadata": {},
   "source": [
    "### 3. Build a machine learning pipeline\n",
    "This machine pipeline should take in the `message` column as input and output classification results on the other 36 categories in the dataset. You may find the [MultiOutputClassifier](http://scikit-learn.org/stable/modules/generated/sklearn.multioutput.MultiOutputClassifier.html) helpful for predicting multiple target variables."
   ]
  },
  {
   "cell_type": "code",
   "execution_count": 11,
   "metadata": {},
   "outputs": [],
   "source": [
    "classifier = RandomForestClassifier(n_estimators=8)\n",
    "\n",
    "pipeline = Pipeline([\n",
    "                    ('tfidf', TfidfVectorizer(tokenizer=tokenize)),\n",
    "                    ('forest', MultiOutputClassifier(classifier))\n",
    "                    ])"
   ]
  },
  {
   "cell_type": "markdown",
   "metadata": {},
   "source": [
    "### 4. Train pipeline\n",
    "- Split data into train and test sets\n",
    "- Train pipeline"
   ]
  },
  {
   "cell_type": "code",
   "execution_count": 12,
   "metadata": {},
   "outputs": [],
   "source": [
    "X_train, X_test, Y_train, Y_test = train_test_split(X, Y, test_size=0.33, random_state=42)"
   ]
  },
  {
   "cell_type": "code",
   "execution_count": 73,
   "metadata": {
    "scrolled": true
   },
   "outputs": [
    {
     "data": {
      "text/plain": [
       "Pipeline(memory=None,\n",
       "         steps=[('tfidf',\n",
       "                 TfidfVectorizer(analyzer='word', binary=False,\n",
       "                                 decode_error='strict',\n",
       "                                 dtype=<class 'numpy.float64'>,\n",
       "                                 encoding='utf-8', input='content',\n",
       "                                 lowercase=True, max_df=1.0, max_features=None,\n",
       "                                 min_df=1, ngram_range=(1, 1), norm='l2',\n",
       "                                 preprocessor=None, smooth_idf=True,\n",
       "                                 stop_words=None, strip_accents=None,\n",
       "                                 sublinear_tf=False,\n",
       "                                 token_pattern='...\n",
       "                                                                        ccp_alpha=0.0,\n",
       "                                                                        class_weight=None,\n",
       "                                                                        criterion='gini',\n",
       "                                                                        max_depth=None,\n",
       "                                                                        max_features='auto',\n",
       "                                                                        max_leaf_nodes=None,\n",
       "                                                                        max_samples=None,\n",
       "                                                                        min_impurity_decrease=0.0,\n",
       "                                                                        min_impurity_split=None,\n",
       "                                                                        min_samples_leaf=1,\n",
       "                                                                        min_samples_split=2,\n",
       "                                                                        min_weight_fraction_leaf=0.0,\n",
       "                                                                        n_estimators=8,\n",
       "                                                                        n_jobs=None,\n",
       "                                                                        oob_score=False,\n",
       "                                                                        random_state=None,\n",
       "                                                                        verbose=0,\n",
       "                                                                        warm_start=False),\n",
       "                                       n_jobs=None))],\n",
       "         verbose=False)"
      ]
     },
     "execution_count": 73,
     "metadata": {},
     "output_type": "execute_result"
    }
   ],
   "source": [
    "pipeline.fit(X_train, Y_train)"
   ]
  },
  {
   "cell_type": "markdown",
   "metadata": {},
   "source": [
    "### 5. Test your model\n",
    "Report the f1 score, precision and recall for each output category of the dataset. You can do this by iterating through the columns and calling sklearn's `classification_report` on each."
   ]
  },
  {
   "cell_type": "markdown",
   "metadata": {},
   "source": [
    "First, I will define a function that will compute _predictions_ on test and train data, and compare _average_ scores (accuracy, precision recall and F1). "
   ]
  },
  {
   "cell_type": "code",
   "execution_count": 16,
   "metadata": {},
   "outputs": [],
   "source": [
    "def test_model(model, X_train, X_test, Y_train, Y_test):\n",
    "    '''\n",
    "    Test the multi-class model on test and train data\n",
    "    :param model   : scikit-learn estimator : fitted estimator\n",
    "    :param X_train : array-like : train set of explanatory variables  \n",
    "    :param X_test  : array-like : test set of explanatory variables \n",
    "    :param Y_train : array-like : train set of target variables  \n",
    "    :param Y_test  : array-like : test set of target variables \n",
    "    \n",
    "    :return: array-like : predicted test and train values\n",
    "    '''\n",
    "    Y_pred_train = model.predict(X_train)\n",
    "    Y_pred_test  = model.predict(X_test)\n",
    "    \n",
    "    print('==========  Test Data Scores ===========')\n",
    "    print('Accuracy: ', accuracy_score(Y_test, Y_pred_test))\n",
    "    print('Precision: ', precision_score(Y_test, Y_pred_test, average='weighted'))\n",
    "    print('Recall: ', recall_score(Y_test, Y_pred_test, average='weighted'))\n",
    "    print('F1 score: ', f1_score(Y_test, Y_pred_test, average='weighted'))\n",
    "    \n",
    "    print('\\n==========  Train Data Scores ===========')\n",
    "    print('Accuracy: ', accuracy_score(Y_train, Y_pred_train))\n",
    "    print('Precision: ', precision_score(Y_train, Y_pred_train, average='weighted'))\n",
    "    print('Recall: ', recall_score(Y_train, Y_pred_train, average='weighted'))\n",
    "    print('F1 score: ', f1_score(Y_train, Y_pred_train, average='weighted'))\n",
    "    \n",
    "    return Y_pred_test, Y_pred_train"
   ]
  },
  {
   "cell_type": "code",
   "execution_count": 75,
   "metadata": {},
   "outputs": [
    {
     "name": "stdout",
     "output_type": "stream",
     "text": [
      "==========  Test Data Scores ===========\n",
      "Accuracy:  0.23959426372857642\n",
      "Precision:  0.724821895546415\n",
      "Recall:  0.4725485929794024\n",
      "F1 score:  0.5310867126869674\n",
      "\n",
      "==========  Train Data Scores ===========\n",
      "Accuracy:  0.7783712382265104\n",
      "Precision: "
     ]
    },
    {
     "name": "stderr",
     "output_type": "stream",
     "text": [
      "D:\\Anaconda3\\envs\\data_sci\\lib\\site-packages\\sklearn\\metrics\\_classification.py:1272: UndefinedMetricWarning: Precision is ill-defined and being set to 0.0 in labels with no predicted samples. Use `zero_division` parameter to control this behavior.\n",
      "  _warn_prf(average, modifier, msg_start, len(result))\n"
     ]
    },
    {
     "name": "stdout",
     "output_type": "stream",
     "text": [
      " 0.9950746657857416\n",
      "Recall:  0.9039902958322772\n",
      "F1 score:  0.9450154922687994\n"
     ]
    }
   ],
   "source": [
    "Y_pred_test, Y_pred_train = test_model(pipeline, X_train, X_test, Y_train, Y_test)"
   ]
  },
  {
   "cell_type": "markdown",
   "metadata": {},
   "source": [
    "We see that _train_ scores are much higher that _test_ scores. This means that we have a rather over-fitted model. "
   ]
  },
  {
   "cell_type": "markdown",
   "metadata": {},
   "source": [
    "Now let's compute f1 score, precision and recall for each output category of the dataset."
   ]
  },
  {
   "cell_type": "code",
   "execution_count": 76,
   "metadata": {},
   "outputs": [
    {
     "name": "stdout",
     "output_type": "stream",
     "text": [
      "related\n",
      "              precision    recall  f1-score   support\n",
      "\n",
      "           0       0.60      0.47      0.53      2023\n",
      "           1       0.85      0.90      0.87      6554\n",
      "\n",
      "    accuracy                           0.80      8577\n",
      "   macro avg       0.72      0.69      0.70      8577\n",
      "weighted avg       0.79      0.80      0.79      8577\n",
      "\n",
      "----------------------------------------------\n",
      "request\n",
      "              precision    recall  f1-score   support\n",
      "\n",
      "           0       0.89      0.98      0.93      7084\n",
      "           1       0.82      0.41      0.54      1493\n",
      "\n",
      "    accuracy                           0.88      8577\n",
      "   macro avg       0.85      0.69      0.74      8577\n",
      "weighted avg       0.87      0.88      0.86      8577\n",
      "\n",
      "----------------------------------------------\n",
      "offer\n",
      "              precision    recall  f1-score   support\n",
      "\n",
      "           0       1.00      1.00      1.00      8536\n",
      "           1       0.00      0.00      0.00        41\n",
      "\n",
      "    accuracy                           1.00      8577\n",
      "   macro avg       0.50      0.50      0.50      8577\n",
      "weighted avg       0.99      1.00      0.99      8577\n",
      "\n",
      "----------------------------------------------\n",
      "aid_related\n",
      "              precision    recall  f1-score   support\n",
      "\n",
      "           0       0.73      0.86      0.79      4958\n",
      "           1       0.75      0.56      0.64      3619\n",
      "\n",
      "    accuracy                           0.74      8577\n",
      "   macro avg       0.74      0.71      0.72      8577\n",
      "weighted avg       0.74      0.74      0.73      8577\n",
      "\n",
      "----------------------------------------------\n",
      "medical_help\n",
      "              precision    recall  f1-score   support\n",
      "\n",
      "           0       0.92      0.99      0.96      7862\n",
      "           1       0.60      0.08      0.14       715\n",
      "\n",
      "    accuracy                           0.92      8577\n",
      "   macro avg       0.76      0.54      0.55      8577\n",
      "weighted avg       0.90      0.92      0.89      8577\n",
      "\n",
      "----------------------------------------------\n",
      "medical_products\n",
      "              precision    recall  f1-score   support\n",
      "\n",
      "           0       0.95      1.00      0.98      8141\n",
      "           1       0.79      0.08      0.14       436\n",
      "\n",
      "    accuracy                           0.95      8577\n",
      "   macro avg       0.87      0.54      0.56      8577\n",
      "weighted avg       0.94      0.95      0.93      8577\n",
      "\n",
      "----------------------------------------------\n",
      "search_and_rescue\n",
      "              precision    recall  f1-score   support\n",
      "\n",
      "           0       0.97      1.00      0.99      8343\n",
      "           1       0.52      0.06      0.10       234\n",
      "\n",
      "    accuracy                           0.97      8577\n",
      "   macro avg       0.75      0.53      0.54      8577\n",
      "weighted avg       0.96      0.97      0.96      8577\n",
      "\n",
      "----------------------------------------------\n",
      "security\n",
      "              precision    recall  f1-score   support\n",
      "\n",
      "           0       0.98      1.00      0.99      8416\n",
      "           1       0.67      0.01      0.02       161\n",
      "\n",
      "    accuracy                           0.98      8577\n",
      "   macro avg       0.82      0.51      0.51      8577\n",
      "weighted avg       0.98      0.98      0.97      8577\n",
      "\n",
      "----------------------------------------------\n",
      "military\n",
      "              precision    recall  f1-score   support\n",
      "\n",
      "           0       0.97      1.00      0.98      8299\n",
      "           1       0.54      0.05      0.10       278\n",
      "\n",
      "    accuracy                           0.97      8577\n",
      "   macro avg       0.75      0.53      0.54      8577\n",
      "weighted avg       0.96      0.97      0.95      8577\n",
      "\n",
      "----------------------------------------------\n",
      "water\n",
      "              precision    recall  f1-score   support\n",
      "\n",
      "           0       0.96      0.99      0.98      8049\n",
      "           1       0.78      0.37      0.50       528\n",
      "\n",
      "    accuracy                           0.95      8577\n",
      "   macro avg       0.87      0.68      0.74      8577\n",
      "weighted avg       0.95      0.95      0.95      8577\n",
      "\n",
      "----------------------------------------------\n",
      "food\n",
      "              precision    recall  f1-score   support\n",
      "\n",
      "           0       0.94      0.99      0.96      7619\n",
      "           1       0.86      0.46      0.60       958\n",
      "\n",
      "    accuracy                           0.93      8577\n",
      "   macro avg       0.90      0.72      0.78      8577\n",
      "weighted avg       0.93      0.93      0.92      8577\n",
      "\n",
      "----------------------------------------------\n",
      "shelter\n",
      "              precision    recall  f1-score   support\n",
      "\n",
      "           0       0.93      0.99      0.96      7771\n",
      "           1       0.85      0.31      0.45       806\n",
      "\n",
      "    accuracy                           0.93      8577\n",
      "   macro avg       0.89      0.65      0.71      8577\n",
      "weighted avg       0.92      0.93      0.91      8577\n",
      "\n",
      "----------------------------------------------\n",
      "clothing\n",
      "              precision    recall  f1-score   support\n",
      "\n",
      "           0       0.99      1.00      0.99      8443\n",
      "           1       0.62      0.06      0.11       134\n",
      "\n",
      "    accuracy                           0.98      8577\n",
      "   macro avg       0.80      0.53      0.55      8577\n",
      "weighted avg       0.98      0.98      0.98      8577\n",
      "\n",
      "----------------------------------------------\n",
      "money\n",
      "              precision    recall  f1-score   support\n",
      "\n",
      "           0       0.98      1.00      0.99      8359\n",
      "           1       0.73      0.04      0.07       218\n",
      "\n",
      "    accuracy                           0.98      8577\n",
      "   macro avg       0.85      0.52      0.53      8577\n",
      "weighted avg       0.97      0.98      0.96      8577\n",
      "\n",
      "----------------------------------------------\n",
      "missing_people\n",
      "              precision    recall  f1-score   support\n",
      "\n",
      "           0       0.99      1.00      0.99      8479\n",
      "           1       0.00      0.00      0.00        98\n",
      "\n",
      "    accuracy                           0.99      8577\n",
      "   macro avg       0.49      0.50      0.50      8577\n",
      "weighted avg       0.98      0.99      0.98      8577\n",
      "\n",
      "----------------------------------------------\n",
      "refugees\n",
      "              precision    recall  f1-score   support\n",
      "\n",
      "           0       0.97      1.00      0.98      8285\n",
      "           1       0.59      0.06      0.11       292\n",
      "\n",
      "    accuracy                           0.97      8577\n",
      "   macro avg       0.78      0.53      0.54      8577\n",
      "weighted avg       0.95      0.97      0.95      8577\n",
      "\n",
      "----------------------------------------------\n",
      "death\n",
      "              precision    recall  f1-score   support\n",
      "\n",
      "           0       0.96      1.00      0.98      8194\n",
      "           1       0.72      0.16      0.27       383\n",
      "\n",
      "    accuracy                           0.96      8577\n",
      "   macro avg       0.84      0.58      0.62      8577\n",
      "weighted avg       0.95      0.96      0.95      8577\n",
      "\n",
      "----------------------------------------------\n",
      "other_aid\n",
      "              precision    recall  f1-score   support\n",
      "\n",
      "           0       0.87      0.99      0.92      7390\n",
      "           1       0.40      0.05      0.09      1187\n",
      "\n",
      "    accuracy                           0.86      8577\n",
      "   macro avg       0.63      0.52      0.51      8577\n",
      "weighted avg       0.80      0.86      0.81      8577\n",
      "\n",
      "----------------------------------------------\n",
      "infrastructure_related\n",
      "              precision    recall  f1-score   support\n",
      "\n",
      "           0       0.93      1.00      0.97      8012\n",
      "           1       0.21      0.01      0.01       565\n",
      "\n",
      "    accuracy                           0.93      8577\n",
      "   macro avg       0.57      0.50      0.49      8577\n",
      "weighted avg       0.89      0.93      0.90      8577\n",
      "\n",
      "----------------------------------------------\n",
      "transport\n",
      "              precision    recall  f1-score   support\n",
      "\n",
      "           0       0.95      1.00      0.98      8163\n",
      "           1       0.52      0.03      0.06       414\n",
      "\n",
      "    accuracy                           0.95      8577\n",
      "   macro avg       0.74      0.51      0.52      8577\n",
      "weighted avg       0.93      0.95      0.93      8577\n",
      "\n",
      "----------------------------------------------\n",
      "buildings\n",
      "              precision    recall  f1-score   support\n",
      "\n",
      "           0       0.95      1.00      0.97      8137\n",
      "           1       0.74      0.08      0.14       440\n",
      "\n",
      "    accuracy                           0.95      8577\n",
      "   macro avg       0.85      0.54      0.56      8577\n",
      "weighted avg       0.94      0.95      0.93      8577\n"
     ]
    },
    {
     "name": "stderr",
     "output_type": "stream",
     "text": [
      "D:\\Anaconda3\\envs\\data_sci\\lib\\site-packages\\sklearn\\metrics\\_classification.py:1272: UndefinedMetricWarning: Precision and F-score are ill-defined and being set to 0.0 in labels with no predicted samples. Use `zero_division` parameter to control this behavior.\n",
      "  _warn_prf(average, modifier, msg_start, len(result))\n"
     ]
    },
    {
     "name": "stdout",
     "output_type": "stream",
     "text": [
      "\n",
      "----------------------------------------------\n",
      "electricity\n",
      "              precision    recall  f1-score   support\n",
      "\n",
      "           0       0.98      1.00      0.99      8390\n",
      "           1       0.43      0.02      0.03       187\n",
      "\n",
      "    accuracy                           0.98      8577\n",
      "   macro avg       0.70      0.51      0.51      8577\n",
      "weighted avg       0.97      0.98      0.97      8577\n",
      "\n",
      "----------------------------------------------\n",
      "tools\n",
      "              precision    recall  f1-score   support\n",
      "\n",
      "           0       0.99      1.00      1.00      8518\n",
      "           1       0.00      0.00      0.00        59\n",
      "\n",
      "    accuracy                           0.99      8577\n",
      "   macro avg       0.50      0.50      0.50      8577\n",
      "weighted avg       0.99      0.99      0.99      8577\n",
      "\n",
      "----------------------------------------------\n",
      "hospitals\n",
      "              precision    recall  f1-score   support\n",
      "\n",
      "           0       0.99      1.00      0.99      8490\n",
      "           1       0.00      0.00      0.00        87\n",
      "\n",
      "    accuracy                           0.99      8577\n",
      "   macro avg       0.49      0.50      0.50      8577\n",
      "weighted avg       0.98      0.99      0.98      8577\n",
      "\n",
      "----------------------------------------------\n",
      "shops\n",
      "              precision    recall  f1-score   support\n",
      "\n",
      "           0       0.99      1.00      1.00      8532\n",
      "           1       0.00      0.00      0.00        45\n",
      "\n",
      "    accuracy                           0.99      8577\n",
      "   macro avg       0.50      0.50      0.50      8577\n",
      "weighted avg       0.99      0.99      0.99      8577\n",
      "\n",
      "----------------------------------------------\n",
      "aid_centers\n",
      "              precision    recall  f1-score   support\n",
      "\n",
      "           0       0.99      1.00      0.99      8457\n",
      "           1       0.00      0.00      0.00       120\n",
      "\n",
      "    accuracy                           0.99      8577\n",
      "   macro avg       0.49      0.50      0.50      8577\n",
      "weighted avg       0.97      0.99      0.98      8577\n",
      "\n",
      "----------------------------------------------\n",
      "other_infrastructure\n",
      "              precision    recall  f1-score   support\n",
      "\n",
      "           0       0.96      1.00      0.98      8205\n",
      "           1       0.00      0.00      0.00       372\n",
      "\n",
      "    accuracy                           0.96      8577\n",
      "   macro avg       0.48      0.50      0.49      8577\n",
      "weighted avg       0.92      0.96      0.93      8577\n",
      "\n",
      "----------------------------------------------\n",
      "weather_related\n",
      "              precision    recall  f1-score   support\n",
      "\n",
      "           0       0.86      0.95      0.91      6152\n",
      "           1       0.84      0.61      0.71      2425\n",
      "\n",
      "    accuracy                           0.86      8577\n",
      "   macro avg       0.85      0.78      0.81      8577\n",
      "weighted avg       0.86      0.86      0.85      8577\n",
      "\n",
      "----------------------------------------------\n",
      "floods\n",
      "              precision    recall  f1-score   support\n",
      "\n",
      "           0       0.95      1.00      0.97      7868\n",
      "           1       0.88      0.38      0.53       709\n",
      "\n",
      "    accuracy                           0.94      8577\n",
      "   macro avg       0.92      0.69      0.75      8577\n",
      "weighted avg       0.94      0.94      0.93      8577\n",
      "\n",
      "----------------------------------------------\n",
      "storm\n",
      "              precision    recall  f1-score   support\n",
      "\n",
      "           0       0.94      0.98      0.96      7738\n",
      "           1       0.76      0.44      0.55       839\n",
      "\n",
      "    accuracy                           0.93      8577\n",
      "   macro avg       0.85      0.71      0.76      8577\n",
      "weighted avg       0.92      0.93      0.92      8577\n",
      "\n",
      "----------------------------------------------\n",
      "fire\n",
      "              precision    recall  f1-score   support\n",
      "\n",
      "           0       0.99      1.00      1.00      8497\n",
      "           1       0.00      0.00      0.00        80\n",
      "\n",
      "    accuracy                           0.99      8577\n",
      "   macro avg       0.50      0.50      0.50      8577\n",
      "weighted avg       0.98      0.99      0.99      8577\n",
      "\n",
      "----------------------------------------------\n",
      "earthquake\n",
      "              precision    recall  f1-score   support\n",
      "\n",
      "           0       0.97      0.99      0.98      7785\n",
      "           1       0.89      0.73      0.80       792\n",
      "\n",
      "    accuracy                           0.97      8577\n",
      "   macro avg       0.93      0.86      0.89      8577\n",
      "weighted avg       0.97      0.97      0.97      8577\n",
      "\n",
      "----------------------------------------------\n",
      "cold\n",
      "              precision    recall  f1-score   support\n",
      "\n",
      "           0       0.98      1.00      0.99      8413\n",
      "           1       0.71      0.06      0.11       164\n",
      "\n",
      "    accuracy                           0.98      8577\n",
      "   macro avg       0.85      0.53      0.55      8577\n",
      "weighted avg       0.98      0.98      0.97      8577\n",
      "\n",
      "----------------------------------------------\n",
      "other_weather\n",
      "              precision    recall  f1-score   support\n",
      "\n",
      "           0       0.95      1.00      0.97      8115\n",
      "           1       0.47      0.06      0.10       462\n",
      "\n",
      "    accuracy                           0.95      8577\n",
      "   macro avg       0.71      0.53      0.54      8577\n",
      "weighted avg       0.92      0.95      0.93      8577\n",
      "\n",
      "----------------------------------------------\n",
      "direct_report\n",
      "              precision    recall  f1-score   support\n",
      "\n",
      "           0       0.85      0.97      0.91      6896\n",
      "           1       0.70      0.31      0.43      1681\n",
      "\n",
      "    accuracy                           0.84      8577\n",
      "   macro avg       0.78      0.64      0.67      8577\n",
      "weighted avg       0.82      0.84      0.81      8577\n",
      "\n",
      "----------------------------------------------\n"
     ]
    }
   ],
   "source": [
    "for i, col in enumerate(Y_test):\n",
    "    print(col)\n",
    "    print(classification_report(Y_test[col], Y_pred_test[:, i]))\n",
    "    print(\"----------------------------------------------\")"
   ]
  },
  {
   "cell_type": "markdown",
   "metadata": {},
   "source": [
    "#### Make reports for each score type (precision, recall, f1-score):\n",
    "Obtain a DataFrame with `category` as index; each row should contain score values for test samples belonging (1), and not belonging (0) to this category. \n",
    "\n",
    "`score_report` function will be defined for obtaining such reports"
   ]
  },
  {
   "cell_type": "code",
   "execution_count": 77,
   "metadata": {},
   "outputs": [],
   "source": [
    "def score_report(Y, Y_pred, score_type, skip_categories=['child_alone']):\n",
    "    '''\n",
    "    Produce a report for a given score type\n",
    "    \n",
    "    :param Y : array-like : test set of target variables\n",
    "    :param Y_test : array-like : test set of target variables\n",
    "    :param score_type : string : may be 'precision' or 'recall' or 'f1-score'\n",
    "    :param skip_categories : list of strings : which categories we do not want to include in our report.\n",
    "        'child_alone' is default, since there are no examples of messages belonging to this category \n",
    "    :return: DataFrame: 'category' as index; each row holds 2 values: scores for samples belonging (1),\n",
    "    and not belonging (0) to this category\n",
    "    '''\n",
    "    if not score_type in ['precision', 'recall', 'f1-score']:\n",
    "        return\n",
    "    \n",
    "    report_df = pd.DataFrame()\n",
    "\n",
    "    for i, category in enumerate(Y):\n",
    "        if category in skip_categories:\n",
    "            continue\n",
    "        # get report for category \n",
    "        cat_report = classification_report(Y[category], Y_pred[:, i], output_dict=True)\n",
    "        # get the part that concerns only score_type  \n",
    "        cat_row = pd.DataFrame(cat_report).loc[score_type][:2]\n",
    "        # add 'category' value\n",
    "        cat_row['category'] = category \n",
    "        # append to final report\n",
    "        report_df = report_df.append(cat_row, sort=False)\n",
    "\n",
    "    # set 'category' as index and return resulting DataFrame\n",
    "    return report_df.set_index(['category'])\n",
    "    \n",
    "    "
   ]
  },
  {
   "cell_type": "code",
   "execution_count": 78,
   "metadata": {},
   "outputs": [
    {
     "data": {
      "text/html": [
       "<div>\n",
       "<style scoped>\n",
       "    .dataframe tbody tr th:only-of-type {\n",
       "        vertical-align: middle;\n",
       "    }\n",
       "\n",
       "    .dataframe tbody tr th {\n",
       "        vertical-align: top;\n",
       "    }\n",
       "\n",
       "    .dataframe thead th {\n",
       "        text-align: right;\n",
       "    }\n",
       "</style>\n",
       "<table border=\"1\" class=\"dataframe\">\n",
       "  <thead>\n",
       "    <tr style=\"text-align: right;\">\n",
       "      <th></th>\n",
       "      <th>0</th>\n",
       "      <th>1</th>\n",
       "    </tr>\n",
       "    <tr>\n",
       "      <th>category</th>\n",
       "      <th></th>\n",
       "      <th></th>\n",
       "    </tr>\n",
       "  </thead>\n",
       "  <tbody>\n",
       "    <tr>\n",
       "      <th>related</th>\n",
       "      <td>0.602266</td>\n",
       "      <td>0.847453</td>\n",
       "    </tr>\n",
       "    <tr>\n",
       "      <th>request</th>\n",
       "      <td>0.886706</td>\n",
       "      <td>0.818674</td>\n",
       "    </tr>\n",
       "    <tr>\n",
       "      <th>offer</th>\n",
       "      <td>0.995220</td>\n",
       "      <td>0.000000</td>\n",
       "    </tr>\n",
       "    <tr>\n",
       "      <th>aid_related</th>\n",
       "      <td>0.728586</td>\n",
       "      <td>0.750835</td>\n",
       "    </tr>\n",
       "    <tr>\n",
       "      <th>medical_help</th>\n",
       "      <td>0.922623</td>\n",
       "      <td>0.595960</td>\n",
       "    </tr>\n",
       "    <tr>\n",
       "      <th>medical_products</th>\n",
       "      <td>0.952783</td>\n",
       "      <td>0.785714</td>\n",
       "    </tr>\n",
       "    <tr>\n",
       "      <th>search_and_rescue</th>\n",
       "      <td>0.974158</td>\n",
       "      <td>0.520000</td>\n",
       "    </tr>\n",
       "    <tr>\n",
       "      <th>security</th>\n",
       "      <td>0.981456</td>\n",
       "      <td>0.666667</td>\n",
       "    </tr>\n",
       "    <tr>\n",
       "      <th>military</th>\n",
       "      <td>0.969236</td>\n",
       "      <td>0.535714</td>\n",
       "    </tr>\n",
       "    <tr>\n",
       "      <th>water</th>\n",
       "      <td>0.960120</td>\n",
       "      <td>0.777778</td>\n",
       "    </tr>\n",
       "  </tbody>\n",
       "</table>\n",
       "</div>"
      ],
      "text/plain": [
       "                          0         1\n",
       "category                             \n",
       "related            0.602266  0.847453\n",
       "request            0.886706  0.818674\n",
       "offer              0.995220  0.000000\n",
       "aid_related        0.728586  0.750835\n",
       "medical_help       0.922623  0.595960\n",
       "medical_products   0.952783  0.785714\n",
       "search_and_rescue  0.974158  0.520000\n",
       "security           0.981456  0.666667\n",
       "military           0.969236  0.535714\n",
       "water              0.960120  0.777778"
      ]
     },
     "execution_count": 78,
     "metadata": {},
     "output_type": "execute_result"
    }
   ],
   "source": [
    "# Make Precision report\n",
    "precision_report = score_report(Y_test, Y_pred_test, 'precision')\n",
    "precision_report.head(10)"
   ]
  },
  {
   "cell_type": "code",
   "execution_count": 79,
   "metadata": {},
   "outputs": [
    {
     "data": {
      "image/png": "[encoded data removed]",
      "text/plain": [
       "<Figure size 1440x360 with 1 Axes>"
      ]
     },
     "metadata": {
      "needs_background": "light"
     },
     "output_type": "display_data"
    }
   ],
   "source": [
    "precision_report.plot.bar(title='Precision by Categories', figsize=(20,5));"
   ]
  },
  {
   "cell_type": "code",
   "execution_count": 80,
   "metadata": {},
   "outputs": [
    {
     "name": "stderr",
     "output_type": "stream",
     "text": [
      "D:\\Anaconda3\\envs\\data_sci\\lib\\site-packages\\sklearn\\metrics\\_classification.py:1272: UndefinedMetricWarning: Precision and F-score are ill-defined and being set to 0.0 in labels with no predicted samples. Use `zero_division` parameter to control this behavior.\n",
      "  _warn_prf(average, modifier, msg_start, len(result))\n"
     ]
    },
    {
     "data": {
      "image/png": "[encoded data removed]",
      "text/plain": [
       "<Figure size 1440x360 with 1 Axes>"
      ]
     },
     "metadata": {
      "needs_background": "light"
     },
     "output_type": "display_data"
    }
   ],
   "source": [
    "# Make Recall report\n",
    "score_report(Y_test, Y_pred_test, 'recall').plot.bar(title='Recall by Categories', figsize=(20,5));"
   ]
  },
  {
   "cell_type": "code",
   "execution_count": 81,
   "metadata": {
    "scrolled": true
   },
   "outputs": [
    {
     "data": {
      "image/png": "[encoded data removed]",
      "text/plain": [
       "<Figure size 1440x360 with 1 Axes>"
      ]
     },
     "metadata": {
      "needs_background": "light"
     },
     "output_type": "display_data"
    }
   ],
   "source": [
    "# Make F1-score report\n",
    "score_report(Y_test, Y_pred_test, 'f1-score').plot.bar(title='F1-Score by Categories', figsize=(20,5));"
   ]
  },
  {
   "cell_type": "markdown",
   "metadata": {},
   "source": [
    "For most categories, the class representation is severely disbalanced: too few positive examples. Hence we see that scores are much worse for positive test examples.  "
   ]
  },
  {
   "cell_type": "code",
   "execution_count": null,
   "metadata": {},
   "outputs": [],
   "source": []
  },
  {
   "cell_type": "markdown",
   "metadata": {},
   "source": [
    "### 6. Improve your model\n",
    "Use grid search to find better parameters. "
   ]
  },
  {
   "cell_type": "code",
   "execution_count": 83,
   "metadata": {},
   "outputs": [],
   "source": [
    "parameters = {\n",
    "    'tfidf__ngram_range': ((1, 1), (1, 2)),\n",
    "    'tfidf__max_df': (0.75, 1.0),\n",
    "    'forest__estimator__n_estimators': [12, 20, 28],\n",
    "    'forest__estimator__min_samples_split': [2, 4]\n",
    "}\n",
    "\n",
    "cv = GridSearchCV(pipeline, parameters, cv=3, verbose=3)\n"
   ]
  },
  {
   "cell_type": "code",
   "execution_count": null,
   "metadata": {
    "scrolled": true
   },
   "outputs": [
    {
     "name": "stdout",
     "output_type": "stream",
     "text": [
      "Fitting 3 folds for each of 24 candidates, totalling 72 fits\n",
      "[CV] forest__estimator__min_samples_split=2, forest__estimator__n_estimators=12, tfidf__max_df=0.75, tfidf__ngram_range=(1, 1) \n"
     ]
    },
    {
     "name": "stderr",
     "output_type": "stream",
     "text": [
      "[Parallel(n_jobs=1)]: Using backend SequentialBackend with 1 concurrent workers.\n"
     ]
    },
    {
     "name": "stdout",
     "output_type": "stream",
     "text": [
      "[CV]  forest__estimator__min_samples_split=2, forest__estimator__n_estimators=12, tfidf__max_df=0.75, tfidf__ngram_range=(1, 1), score=0.243, total= 1.9min\n",
      "[CV] forest__estimator__min_samples_split=2, forest__estimator__n_estimators=12, tfidf__max_df=0.75, tfidf__ngram_range=(1, 1) \n"
     ]
    },
    {
     "name": "stderr",
     "output_type": "stream",
     "text": [
      "[Parallel(n_jobs=1)]: Done   1 out of   1 | elapsed:  1.9min remaining:    0.0s\n"
     ]
    },
    {
     "name": "stdout",
     "output_type": "stream",
     "text": [
      "[CV]  forest__estimator__min_samples_split=2, forest__estimator__n_estimators=12, tfidf__max_df=0.75, tfidf__ngram_range=(1, 1), score=0.250, total= 1.9min\n",
      "[CV] forest__estimator__min_samples_split=2, forest__estimator__n_estimators=12, tfidf__max_df=0.75, tfidf__ngram_range=(1, 1) \n"
     ]
    },
    {
     "name": "stderr",
     "output_type": "stream",
     "text": [
      "[Parallel(n_jobs=1)]: Done   2 out of   2 | elapsed:  3.8min remaining:    0.0s\n"
     ]
    },
    {
     "name": "stdout",
     "output_type": "stream",
     "text": [
      "[CV]  forest__estimator__min_samples_split=2, forest__estimator__n_estimators=12, tfidf__max_df=0.75, tfidf__ngram_range=(1, 1), score=0.237, total= 1.9min\n",
      "[CV] forest__estimator__min_samples_split=2, forest__estimator__n_estimators=12, tfidf__max_df=0.75, tfidf__ngram_range=(1, 2) \n",
      "[CV]  forest__estimator__min_samples_split=2, forest__estimator__n_estimators=12, tfidf__max_df=0.75, tfidf__ngram_range=(1, 2), score=0.236, total= 2.2min\n",
      "[CV] forest__estimator__min_samples_split=2, forest__estimator__n_estimators=12, tfidf__max_df=0.75, tfidf__ngram_range=(1, 2) \n",
      "[CV]  forest__estimator__min_samples_split=2, forest__estimator__n_estimators=12, tfidf__max_df=0.75, tfidf__ngram_range=(1, 2), score=0.256, total= 2.2min\n",
      "[CV] forest__estimator__min_samples_split=2, forest__estimator__n_estimators=12, tfidf__max_df=0.75, tfidf__ngram_range=(1, 2) \n",
      "[CV]  forest__estimator__min_samples_split=2, forest__estimator__n_estimators=12, tfidf__max_df=0.75, tfidf__ngram_range=(1, 2), score=0.249, total= 2.2min\n",
      "[CV] forest__estimator__min_samples_split=2, forest__estimator__n_estimators=12, tfidf__max_df=1.0, tfidf__ngram_range=(1, 1) \n",
      "[CV]  forest__estimator__min_samples_split=2, forest__estimator__n_estimators=12, tfidf__max_df=1.0, tfidf__ngram_range=(1, 1), score=0.240, total= 1.9min\n",
      "[CV] forest__estimator__min_samples_split=2, forest__estimator__n_estimators=12, tfidf__max_df=1.0, tfidf__ngram_range=(1, 1) \n",
      "[CV]  forest__estimator__min_samples_split=2, forest__estimator__n_estimators=12, tfidf__max_df=1.0, tfidf__ngram_range=(1, 1), score=0.244, total= 1.9min\n",
      "[CV] forest__estimator__min_samples_split=2, forest__estimator__n_estimators=12, tfidf__max_df=1.0, tfidf__ngram_range=(1, 1) \n",
      "[CV]  forest__estimator__min_samples_split=2, forest__estimator__n_estimators=12, tfidf__max_df=1.0, tfidf__ngram_range=(1, 1), score=0.246, total= 1.9min\n",
      "[CV] forest__estimator__min_samples_split=2, forest__estimator__n_estimators=12, tfidf__max_df=1.0, tfidf__ngram_range=(1, 2) \n",
      "[CV]  forest__estimator__min_samples_split=2, forest__estimator__n_estimators=12, tfidf__max_df=1.0, tfidf__ngram_range=(1, 2), score=0.243, total= 2.2min\n",
      "[CV] forest__estimator__min_samples_split=2, forest__estimator__n_estimators=12, tfidf__max_df=1.0, tfidf__ngram_range=(1, 2) \n",
      "[CV]  forest__estimator__min_samples_split=2, forest__estimator__n_estimators=12, tfidf__max_df=1.0, tfidf__ngram_range=(1, 2), score=0.254, total= 2.2min\n",
      "[CV] forest__estimator__min_samples_split=2, forest__estimator__n_estimators=12, tfidf__max_df=1.0, tfidf__ngram_range=(1, 2) \n",
      "[CV]  forest__estimator__min_samples_split=2, forest__estimator__n_estimators=12, tfidf__max_df=1.0, tfidf__ngram_range=(1, 2), score=0.241, total= 2.2min\n",
      "[CV] forest__estimator__min_samples_split=2, forest__estimator__n_estimators=20, tfidf__max_df=0.75, tfidf__ngram_range=(1, 1) \n",
      "[CV]  forest__estimator__min_samples_split=2, forest__estimator__n_estimators=20, tfidf__max_df=0.75, tfidf__ngram_range=(1, 1), score=0.248, total= 2.0min\n",
      "[CV] forest__estimator__min_samples_split=2, forest__estimator__n_estimators=20, tfidf__max_df=0.75, tfidf__ngram_range=(1, 1) \n",
      "[CV]  forest__estimator__min_samples_split=2, forest__estimator__n_estimators=20, tfidf__max_df=0.75, tfidf__ngram_range=(1, 1), score=0.253, total= 2.0min\n",
      "[CV] forest__estimator__min_samples_split=2, forest__estimator__n_estimators=20, tfidf__max_df=0.75, tfidf__ngram_range=(1, 1) \n",
      "[CV]  forest__estimator__min_samples_split=2, forest__estimator__n_estimators=20, tfidf__max_df=0.75, tfidf__ngram_range=(1, 1), score=0.250, total= 2.1min\n",
      "[CV] forest__estimator__min_samples_split=2, forest__estimator__n_estimators=20, tfidf__max_df=0.75, tfidf__ngram_range=(1, 2) \n",
      "[CV]  forest__estimator__min_samples_split=2, forest__estimator__n_estimators=20, tfidf__max_df=0.75, tfidf__ngram_range=(1, 2), score=0.245, total= 2.6min\n",
      "[CV] forest__estimator__min_samples_split=2, forest__estimator__n_estimators=20, tfidf__max_df=0.75, tfidf__ngram_range=(1, 2) \n",
      "[CV]  forest__estimator__min_samples_split=2, forest__estimator__n_estimators=20, tfidf__max_df=0.75, tfidf__ngram_range=(1, 2), score=0.268, total= 2.7min\n",
      "[CV] forest__estimator__min_samples_split=2, forest__estimator__n_estimators=20, tfidf__max_df=0.75, tfidf__ngram_range=(1, 2) \n",
      "[CV]  forest__estimator__min_samples_split=2, forest__estimator__n_estimators=20, tfidf__max_df=0.75, tfidf__ngram_range=(1, 2), score=0.253, total= 2.6min\n",
      "[CV] forest__estimator__min_samples_split=2, forest__estimator__n_estimators=20, tfidf__max_df=1.0, tfidf__ngram_range=(1, 1) \n",
      "[CV]  forest__estimator__min_samples_split=2, forest__estimator__n_estimators=20, tfidf__max_df=1.0, tfidf__ngram_range=(1, 1), score=0.245, total= 2.1min\n",
      "[CV] forest__estimator__min_samples_split=2, forest__estimator__n_estimators=20, tfidf__max_df=1.0, tfidf__ngram_range=(1, 1) \n",
      "[CV]  forest__estimator__min_samples_split=2, forest__estimator__n_estimators=20, tfidf__max_df=1.0, tfidf__ngram_range=(1, 1), score=0.261, total= 2.0min\n",
      "[CV] forest__estimator__min_samples_split=2, forest__estimator__n_estimators=20, tfidf__max_df=1.0, tfidf__ngram_range=(1, 1) \n",
      "[CV]  forest__estimator__min_samples_split=2, forest__estimator__n_estimators=20, tfidf__max_df=1.0, tfidf__ngram_range=(1, 1), score=0.248, total= 2.1min\n",
      "[CV] forest__estimator__min_samples_split=2, forest__estimator__n_estimators=20, tfidf__max_df=1.0, tfidf__ngram_range=(1, 2) \n",
      "[CV]  forest__estimator__min_samples_split=2, forest__estimator__n_estimators=20, tfidf__max_df=1.0, tfidf__ngram_range=(1, 2), score=0.235, total= 2.6min\n",
      "[CV] forest__estimator__min_samples_split=2, forest__estimator__n_estimators=20, tfidf__max_df=1.0, tfidf__ngram_range=(1, 2) \n",
      "[CV]  forest__estimator__min_samples_split=2, forest__estimator__n_estimators=20, tfidf__max_df=1.0, tfidf__ngram_range=(1, 2), score=0.262, total= 2.6min\n",
      "[CV] forest__estimator__min_samples_split=2, forest__estimator__n_estimators=20, tfidf__max_df=1.0, tfidf__ngram_range=(1, 2) \n",
      "[CV]  forest__estimator__min_samples_split=2, forest__estimator__n_estimators=20, tfidf__max_df=1.0, tfidf__ngram_range=(1, 2), score=0.251, total= 2.6min\n",
      "[CV] forest__estimator__min_samples_split=2, forest__estimator__n_estimators=28, tfidf__max_df=0.75, tfidf__ngram_range=(1, 1) \n",
      "[CV]  forest__estimator__min_samples_split=2, forest__estimator__n_estimators=28, tfidf__max_df=0.75, tfidf__ngram_range=(1, 1), score=0.247, total= 2.2min\n",
      "[CV] forest__estimator__min_samples_split=2, forest__estimator__n_estimators=28, tfidf__max_df=0.75, tfidf__ngram_range=(1, 1) \n",
      "[CV]  forest__estimator__min_samples_split=2, forest__estimator__n_estimators=28, tfidf__max_df=0.75, tfidf__ngram_range=(1, 1), score=0.259, total= 2.2min\n",
      "[CV] forest__estimator__min_samples_split=2, forest__estimator__n_estimators=28, tfidf__max_df=0.75, tfidf__ngram_range=(1, 1) \n",
      "[CV]  forest__estimator__min_samples_split=2, forest__estimator__n_estimators=28, tfidf__max_df=0.75, tfidf__ngram_range=(1, 1), score=0.261, total= 2.2min\n",
      "[CV] forest__estimator__min_samples_split=2, forest__estimator__n_estimators=28, tfidf__max_df=0.75, tfidf__ngram_range=(1, 2) \n",
      "[CV]  forest__estimator__min_samples_split=2, forest__estimator__n_estimators=28, tfidf__max_df=0.75, tfidf__ngram_range=(1, 2), score=0.246, total= 3.0min\n",
      "[CV] forest__estimator__min_samples_split=2, forest__estimator__n_estimators=28, tfidf__max_df=0.75, tfidf__ngram_range=(1, 2) \n",
      "[CV]  forest__estimator__min_samples_split=2, forest__estimator__n_estimators=28, tfidf__max_df=0.75, tfidf__ngram_range=(1, 2), score=0.264, total= 3.0min\n",
      "[CV] forest__estimator__min_samples_split=2, forest__estimator__n_estimators=28, tfidf__max_df=0.75, tfidf__ngram_range=(1, 2) \n",
      "[CV]  forest__estimator__min_samples_split=2, forest__estimator__n_estimators=28, tfidf__max_df=0.75, tfidf__ngram_range=(1, 2), score=0.254, total= 3.1min\n",
      "[CV] forest__estimator__min_samples_split=2, forest__estimator__n_estimators=28, tfidf__max_df=1.0, tfidf__ngram_range=(1, 1) \n",
      "[CV]  forest__estimator__min_samples_split=2, forest__estimator__n_estimators=28, tfidf__max_df=1.0, tfidf__ngram_range=(1, 1), score=0.248, total= 2.2min\n",
      "[CV] forest__estimator__min_samples_split=2, forest__estimator__n_estimators=28, tfidf__max_df=1.0, tfidf__ngram_range=(1, 1) \n"
     ]
    },
    {
     "name": "stdout",
     "output_type": "stream",
     "text": [
      "[CV]  forest__estimator__min_samples_split=2, forest__estimator__n_estimators=28, tfidf__max_df=1.0, tfidf__ngram_range=(1, 1), score=0.255, total= 2.2min\n",
      "[CV] forest__estimator__min_samples_split=2, forest__estimator__n_estimators=28, tfidf__max_df=1.0, tfidf__ngram_range=(1, 1) \n",
      "[CV]  forest__estimator__min_samples_split=2, forest__estimator__n_estimators=28, tfidf__max_df=1.0, tfidf__ngram_range=(1, 1), score=0.249, total= 2.2min\n",
      "[CV] forest__estimator__min_samples_split=2, forest__estimator__n_estimators=28, tfidf__max_df=1.0, tfidf__ngram_range=(1, 2) \n",
      "[CV]  forest__estimator__min_samples_split=2, forest__estimator__n_estimators=28, tfidf__max_df=1.0, tfidf__ngram_range=(1, 2), score=0.250, total= 3.0min\n",
      "[CV] forest__estimator__min_samples_split=2, forest__estimator__n_estimators=28, tfidf__max_df=1.0, tfidf__ngram_range=(1, 2) \n",
      "[CV]  forest__estimator__min_samples_split=2, forest__estimator__n_estimators=28, tfidf__max_df=1.0, tfidf__ngram_range=(1, 2), score=0.266, total= 3.0min\n",
      "[CV] forest__estimator__min_samples_split=2, forest__estimator__n_estimators=28, tfidf__max_df=1.0, tfidf__ngram_range=(1, 2) \n",
      "[CV]  forest__estimator__min_samples_split=2, forest__estimator__n_estimators=28, tfidf__max_df=1.0, tfidf__ngram_range=(1, 2), score=0.251, total= 3.0min\n",
      "[CV] forest__estimator__min_samples_split=4, forest__estimator__n_estimators=12, tfidf__max_df=0.75, tfidf__ngram_range=(1, 1) \n",
      "[CV]  forest__estimator__min_samples_split=4, forest__estimator__n_estimators=12, tfidf__max_df=0.75, tfidf__ngram_range=(1, 1), score=0.229, total= 1.9min\n",
      "[CV] forest__estimator__min_samples_split=4, forest__estimator__n_estimators=12, tfidf__max_df=0.75, tfidf__ngram_range=(1, 1) \n",
      "[CV]  forest__estimator__min_samples_split=4, forest__estimator__n_estimators=12, tfidf__max_df=0.75, tfidf__ngram_range=(1, 1), score=0.238, total= 1.9min\n",
      "[CV] forest__estimator__min_samples_split=4, forest__estimator__n_estimators=12, tfidf__max_df=0.75, tfidf__ngram_range=(1, 1) \n",
      "[CV]  forest__estimator__min_samples_split=4, forest__estimator__n_estimators=12, tfidf__max_df=0.75, tfidf__ngram_range=(1, 1), score=0.238, total= 1.9min\n",
      "[CV] forest__estimator__min_samples_split=4, forest__estimator__n_estimators=12, tfidf__max_df=0.75, tfidf__ngram_range=(1, 2) \n",
      "[CV]  forest__estimator__min_samples_split=4, forest__estimator__n_estimators=12, tfidf__max_df=0.75, tfidf__ngram_range=(1, 2), score=0.230, total= 2.2min\n",
      "[CV] forest__estimator__min_samples_split=4, forest__estimator__n_estimators=12, tfidf__max_df=0.75, tfidf__ngram_range=(1, 2) \n",
      "[CV]  forest__estimator__min_samples_split=4, forest__estimator__n_estimators=12, tfidf__max_df=0.75, tfidf__ngram_range=(1, 2), score=0.244, total= 2.1min\n",
      "[CV] forest__estimator__min_samples_split=4, forest__estimator__n_estimators=12, tfidf__max_df=0.75, tfidf__ngram_range=(1, 2) \n",
      "[CV]  forest__estimator__min_samples_split=4, forest__estimator__n_estimators=12, tfidf__max_df=0.75, tfidf__ngram_range=(1, 2), score=0.243, total= 2.2min\n",
      "[CV] forest__estimator__min_samples_split=4, forest__estimator__n_estimators=12, tfidf__max_df=1.0, tfidf__ngram_range=(1, 1) \n",
      "[CV]  forest__estimator__min_samples_split=4, forest__estimator__n_estimators=12, tfidf__max_df=1.0, tfidf__ngram_range=(1, 1), score=0.233, total= 1.9min\n",
      "[CV] forest__estimator__min_samples_split=4, forest__estimator__n_estimators=12, tfidf__max_df=1.0, tfidf__ngram_range=(1, 1) \n",
      "[CV]  forest__estimator__min_samples_split=4, forest__estimator__n_estimators=12, tfidf__max_df=1.0, tfidf__ngram_range=(1, 1), score=0.244, total= 1.9min\n",
      "[CV] forest__estimator__min_samples_split=4, forest__estimator__n_estimators=12, tfidf__max_df=1.0, tfidf__ngram_range=(1, 1) \n",
      "[CV]  forest__estimator__min_samples_split=4, forest__estimator__n_estimators=12, tfidf__max_df=1.0, tfidf__ngram_range=(1, 1), score=0.239, total= 1.9min\n",
      "[CV] forest__estimator__min_samples_split=4, forest__estimator__n_estimators=12, tfidf__max_df=1.0, tfidf__ngram_range=(1, 2) \n",
      "[CV]  forest__estimator__min_samples_split=4, forest__estimator__n_estimators=12, tfidf__max_df=1.0, tfidf__ngram_range=(1, 2), score=0.223, total= 2.1min\n",
      "[CV] forest__estimator__min_samples_split=4, forest__estimator__n_estimators=12, tfidf__max_df=1.0, tfidf__ngram_range=(1, 2) \n",
      "[CV]  forest__estimator__min_samples_split=4, forest__estimator__n_estimators=12, tfidf__max_df=1.0, tfidf__ngram_range=(1, 2), score=0.250, total= 2.1min\n",
      "[CV] forest__estimator__min_samples_split=4, forest__estimator__n_estimators=12, tfidf__max_df=1.0, tfidf__ngram_range=(1, 2) \n",
      "[CV]  forest__estimator__min_samples_split=4, forest__estimator__n_estimators=12, tfidf__max_df=1.0, tfidf__ngram_range=(1, 2), score=0.233, total= 2.2min\n",
      "[CV] forest__estimator__min_samples_split=4, forest__estimator__n_estimators=20, tfidf__max_df=0.75, tfidf__ngram_range=(1, 1) \n",
      "[CV]  forest__estimator__min_samples_split=4, forest__estimator__n_estimators=20, tfidf__max_df=0.75, tfidf__ngram_range=(1, 1), score=0.245, total= 2.0min\n",
      "[CV] forest__estimator__min_samples_split=4, forest__estimator__n_estimators=20, tfidf__max_df=0.75, tfidf__ngram_range=(1, 1) \n",
      "[CV]  forest__estimator__min_samples_split=4, forest__estimator__n_estimators=20, tfidf__max_df=0.75, tfidf__ngram_range=(1, 1), score=0.251, total= 2.0min\n",
      "[CV] forest__estimator__min_samples_split=4, forest__estimator__n_estimators=20, tfidf__max_df=0.75, tfidf__ngram_range=(1, 1) \n",
      "[CV]  forest__estimator__min_samples_split=4, forest__estimator__n_estimators=20, tfidf__max_df=0.75, tfidf__ngram_range=(1, 1), score=0.246, total= 2.0min\n",
      "[CV] forest__estimator__min_samples_split=4, forest__estimator__n_estimators=20, tfidf__max_df=0.75, tfidf__ngram_range=(1, 2) \n",
      "[CV]  forest__estimator__min_samples_split=4, forest__estimator__n_estimators=20, tfidf__max_df=0.75, tfidf__ngram_range=(1, 2), score=0.240, total= 2.5min\n",
      "[CV] forest__estimator__min_samples_split=4, forest__estimator__n_estimators=20, tfidf__max_df=0.75, tfidf__ngram_range=(1, 2) \n",
      "[CV]  forest__estimator__min_samples_split=4, forest__estimator__n_estimators=20, tfidf__max_df=0.75, tfidf__ngram_range=(1, 2), score=0.252, total= 2.5min\n",
      "[CV] forest__estimator__min_samples_split=4, forest__estimator__n_estimators=20, tfidf__max_df=0.75, tfidf__ngram_range=(1, 2) \n",
      "[CV]  forest__estimator__min_samples_split=4, forest__estimator__n_estimators=20, tfidf__max_df=0.75, tfidf__ngram_range=(1, 2), score=0.238, total= 2.5min\n",
      "[CV] forest__estimator__min_samples_split=4, forest__estimator__n_estimators=20, tfidf__max_df=1.0, tfidf__ngram_range=(1, 1) \n",
      "[CV]  forest__estimator__min_samples_split=4, forest__estimator__n_estimators=20, tfidf__max_df=1.0, tfidf__ngram_range=(1, 1), score=0.249, total= 2.0min\n",
      "[CV] forest__estimator__min_samples_split=4, forest__estimator__n_estimators=20, tfidf__max_df=1.0, tfidf__ngram_range=(1, 1) \n",
      "[CV]  forest__estimator__min_samples_split=4, forest__estimator__n_estimators=20, tfidf__max_df=1.0, tfidf__ngram_range=(1, 1), score=0.252, total= 2.0min\n",
      "[CV] forest__estimator__min_samples_split=4, forest__estimator__n_estimators=20, tfidf__max_df=1.0, tfidf__ngram_range=(1, 1) \n",
      "[CV]  forest__estimator__min_samples_split=4, forest__estimator__n_estimators=20, tfidf__max_df=1.0, tfidf__ngram_range=(1, 1), score=0.241, total= 2.0min\n",
      "[CV] forest__estimator__min_samples_split=4, forest__estimator__n_estimators=20, tfidf__max_df=1.0, tfidf__ngram_range=(1, 2) \n",
      "[CV]  forest__estimator__min_samples_split=4, forest__estimator__n_estimators=20, tfidf__max_df=1.0, tfidf__ngram_range=(1, 2), score=0.240, total= 2.5min\n",
      "[CV] forest__estimator__min_samples_split=4, forest__estimator__n_estimators=20, tfidf__max_df=1.0, tfidf__ngram_range=(1, 2) \n",
      "[CV]  forest__estimator__min_samples_split=4, forest__estimator__n_estimators=20, tfidf__max_df=1.0, tfidf__ngram_range=(1, 2), score=0.253, total= 2.5min\n",
      "[CV] forest__estimator__min_samples_split=4, forest__estimator__n_estimators=20, tfidf__max_df=1.0, tfidf__ngram_range=(1, 2) \n",
      "[CV]  forest__estimator__min_samples_split=4, forest__estimator__n_estimators=20, tfidf__max_df=1.0, tfidf__ngram_range=(1, 2), score=0.250, total= 2.5min\n",
      "[CV] forest__estimator__min_samples_split=4, forest__estimator__n_estimators=28, tfidf__max_df=0.75, tfidf__ngram_range=(1, 1) \n"
     ]
    },
    {
     "name": "stdout",
     "output_type": "stream",
     "text": [
      "[CV]  forest__estimator__min_samples_split=4, forest__estimator__n_estimators=28, tfidf__max_df=0.75, tfidf__ngram_range=(1, 1), score=0.253, total= 2.2min\n",
      "[CV] forest__estimator__min_samples_split=4, forest__estimator__n_estimators=28, tfidf__max_df=0.75, tfidf__ngram_range=(1, 1) \n",
      "[CV]  forest__estimator__min_samples_split=4, forest__estimator__n_estimators=28, tfidf__max_df=0.75, tfidf__ngram_range=(1, 1), score=0.251, total= 2.1min\n",
      "[CV] forest__estimator__min_samples_split=4, forest__estimator__n_estimators=28, tfidf__max_df=0.75, tfidf__ngram_range=(1, 1) \n",
      "[CV]  forest__estimator__min_samples_split=4, forest__estimator__n_estimators=28, tfidf__max_df=0.75, tfidf__ngram_range=(1, 1), score=0.247, total= 2.1min\n",
      "[CV] forest__estimator__min_samples_split=4, forest__estimator__n_estimators=28, tfidf__max_df=0.75, tfidf__ngram_range=(1, 2) \n",
      "[CV]  forest__estimator__min_samples_split=4, forest__estimator__n_estimators=28, tfidf__max_df=0.75, tfidf__ngram_range=(1, 2), score=0.252, total= 2.8min\n",
      "[CV] forest__estimator__min_samples_split=4, forest__estimator__n_estimators=28, tfidf__max_df=0.75, tfidf__ngram_range=(1, 2) \n",
      "[CV]  forest__estimator__min_samples_split=4, forest__estimator__n_estimators=28, tfidf__max_df=0.75, tfidf__ngram_range=(1, 2), score=0.267, total= 2.8min\n",
      "[CV] forest__estimator__min_samples_split=4, forest__estimator__n_estimators=28, tfidf__max_df=0.75, tfidf__ngram_range=(1, 2) \n",
      "[CV]  forest__estimator__min_samples_split=4, forest__estimator__n_estimators=28, tfidf__max_df=0.75, tfidf__ngram_range=(1, 2), score=0.255, total= 2.8min\n",
      "[CV] forest__estimator__min_samples_split=4, forest__estimator__n_estimators=28, tfidf__max_df=1.0, tfidf__ngram_range=(1, 1) \n",
      "[CV]  forest__estimator__min_samples_split=4, forest__estimator__n_estimators=28, tfidf__max_df=1.0, tfidf__ngram_range=(1, 1), score=0.246, total= 2.2min\n",
      "[CV] forest__estimator__min_samples_split=4, forest__estimator__n_estimators=28, tfidf__max_df=1.0, tfidf__ngram_range=(1, 1) \n"
     ]
    }
   ],
   "source": [
    "cv.fit(X_train, Y_train)"
   ]
  },
  {
   "cell_type": "code",
   "execution_count": null,
   "metadata": {},
   "outputs": [],
   "source": []
  },
  {
   "cell_type": "markdown",
   "metadata": {},
   "source": [
    "### 7. Test your model\n",
    "Show the accuracy, precision, and recall of the tuned model.  \n",
    "\n",
    "Since this project focuses on code quality, process, and  pipelines, there is no minimum performance metric needed to pass. However, make sure to fine tune your models for accuracy, precision and recall to make your project stand out - especially for your portfolio!"
   ]
  },
  {
   "cell_type": "code",
   "execution_count": 18,
   "metadata": {},
   "outputs": [
    {
     "name": "stdout",
     "output_type": "stream",
     "text": [
      "==========  Test Data Scores ===========\n",
      "Accuracy:  0.24915471610120088\n",
      "Precision:  0.7447932538992399\n",
      "Recall:  0.5036988685813751\n",
      "F1 score:  0.5538814508253855\n",
      "\n",
      "==========  Train Data Scores ===========\n",
      "Accuracy:  0.8719848380427292\n"
     ]
    },
    {
     "name": "stderr",
     "output_type": "stream",
     "text": [
      "/Users/boris/anaconda3/envs/data_sci/lib/python3.8/site-packages/sklearn/metrics/_classification.py:1272: UndefinedMetricWarning: Precision is ill-defined and being set to 0.0 in labels with no predicted samples. Use `zero_division` parameter to control this behavior.\n",
      "  _warn_prf(average, modifier, msg_start, len(result))\n"
     ]
    },
    {
     "name": "stdout",
     "output_type": "stream",
     "text": [
      "Precision:  0.9973229641952617\n",
      "Recall:  0.9503928739544484\n",
      "F1 score:  0.9725385062458517\n"
     ]
    }
   ],
   "source": [
    "Y_pred_test_cv, Y_pred_train_cv = test_model(cv, X_train, X_test, Y_train, Y_test)"
   ]
  },
  {
   "cell_type": "markdown",
   "metadata": {},
   "source": [
    "We see several percent improvement, which is sot very inpressive for F1 being ~0.5"
   ]
  },
  {
   "cell_type": "markdown",
   "metadata": {},
   "source": [
    "### 8. Try improving your model further. Here are a few ideas:\n",
    "* try other machine learning algorithms\n",
    "* add other features besides the TF-IDF"
   ]
  },
  {
   "cell_type": "markdown",
   "metadata": {},
   "source": [
    "The new pipeline will include:\n",
    "- TF-IDF vectorizer\n",
    "- Truncated SVD transformation to reduce the feature space dimensionality\n",
    "- KNN classifier"
   ]
  },
  {
   "cell_type": "code",
   "execution_count": 13,
   "metadata": {},
   "outputs": [],
   "source": [
    "from sklearn.decomposition import TruncatedSVD\n",
    "from sklearn.neighbors import KNeighborsClassifier\n",
    "\n",
    "knn_classifier = KNeighborsClassifier()\n",
    "\n",
    "pipeline_knn = Pipeline([\n",
    "                    ('tfidf', TfidfVectorizer(tokenizer=tokenize)),\n",
    "                    ('truncate', TruncatedSVD(n_components=32)),\n",
    "                    ('knn', MultiOutputClassifier(knn_classifier))\n",
    "                    ])\n"
   ]
  },
  {
   "cell_type": "code",
   "execution_count": 14,
   "metadata": {
    "scrolled": true
   },
   "outputs": [
    {
     "data": {
      "text/plain": [
       "Pipeline(memory=None,\n",
       "         steps=[('tfidf',\n",
       "                 TfidfVectorizer(analyzer='word', binary=False,\n",
       "                                 decode_error='strict',\n",
       "                                 dtype=<class 'numpy.float64'>,\n",
       "                                 encoding='utf-8', input='content',\n",
       "                                 lowercase=True, max_df=1.0, max_features=None,\n",
       "                                 min_df=1, ngram_range=(1, 1), norm='l2',\n",
       "                                 preprocessor=None, smooth_idf=True,\n",
       "                                 stop_words=None, strip_accents=None,\n",
       "                                 sublinear_tf=False,\n",
       "                                 token_pattern='...\n",
       "                                 tokenizer=<function tokenize at 0x00000190C63AD700>,\n",
       "                                 use_idf=True, vocabulary=None)),\n",
       "                ('truncate',\n",
       "                 TruncatedSVD(algorithm='randomized', n_components=32, n_iter=5,\n",
       "                              random_state=None, tol=0.0)),\n",
       "                ('knn',\n",
       "                 MultiOutputClassifier(estimator=KNeighborsClassifier(algorithm='auto',\n",
       "                                                                      leaf_size=30,\n",
       "                                                                      metric='minkowski',\n",
       "                                                                      metric_params=None,\n",
       "                                                                      n_jobs=None,\n",
       "                                                                      n_neighbors=5,\n",
       "                                                                      p=2,\n",
       "                                                                      weights='uniform'),\n",
       "                                       n_jobs=None))],\n",
       "         verbose=False)"
      ]
     },
     "execution_count": 14,
     "metadata": {},
     "output_type": "execute_result"
    }
   ],
   "source": [
    "pipeline_knn.fit(X_train, Y_train)"
   ]
  },
  {
   "cell_type": "code",
   "execution_count": 17,
   "metadata": {},
   "outputs": [
    {
     "name": "stdout",
     "output_type": "stream",
     "text": [
      "==========  Test Data Scores ===========\n",
      "Accuracy:  0.23294858342077648\n",
      "Precision:  0.6524783434237581\n",
      "Recall:  0.47900348128807657\n",
      "F1 score:  0.5289428382256647\n",
      "\n",
      "==========  Train Data Scores ===========\n",
      "Accuracy:  0.3479784056972203\n",
      "Precision: "
     ]
    },
    {
     "name": "stderr",
     "output_type": "stream",
     "text": [
      "D:\\Anaconda3\\envs\\data_sci\\lib\\site-packages\\sklearn\\metrics\\_classification.py:1272: UndefinedMetricWarning: Precision is ill-defined and being set to 0.0 in labels with no predicted samples. Use `zero_division` parameter to control this behavior.\n",
      "  _warn_prf(average, modifier, msg_start, len(result))\n"
     ]
    },
    {
     "name": "stdout",
     "output_type": "stream",
     "text": [
      " 0.8033262144139014\n",
      "Recall:  0.5576456530397943\n",
      "F1 score:  0.6208531092524379\n"
     ]
    }
   ],
   "source": [
    "test_model(pipeline_knn, X_train, X_test, Y_train, Y_test);"
   ]
  },
  {
   "cell_type": "markdown",
   "metadata": {},
   "source": []
  },
  {
   "cell_type": "code",
   "execution_count": null,
   "metadata": {},
   "outputs": [],
   "source": []
  },
  {
   "cell_type": "code",
   "execution_count": null,
   "metadata": {},
   "outputs": [],
   "source": []
  },
  {
   "cell_type": "code",
   "execution_count": 19,
   "metadata": {},
   "outputs": [],
   "source": [
    "    parameters_knn = {\n",
    "        'tfidf__ngram_range': ((1, 1), (1, 2)),\n",
    "        'tfidf__max_df': (0.75, 1.0),\n",
    "        'truncate__n_components': [64, 128],\n",
    "        'knn__estimator__n_neighbors': [1, 3]\n",
    "    }\n",
    "\n",
    "    knn_cv = GridSearchCV(pipeline_knn, parameters_knn, cv=3, verbose=3)"
   ]
  },
  {
   "cell_type": "code",
   "execution_count": 20,
   "metadata": {},
   "outputs": [
    {
     "name": "stdout",
     "output_type": "stream",
     "text": [
      "Fitting 3 folds for each of 16 candidates, totalling 48 fits\n",
      "[CV] knn__estimator__n_neighbors=1, tfidf__max_df=0.75, tfidf__ngram_range=(1, 1), truncate__n_components=64 \n"
     ]
    },
    {
     "name": "stderr",
     "output_type": "stream",
     "text": [
      "[Parallel(n_jobs=1)]: Using backend SequentialBackend with 1 concurrent workers.\n"
     ]
    },
    {
     "name": "stdout",
     "output_type": "stream",
     "text": [
      "[CV]  knn__estimator__n_neighbors=1, tfidf__max_df=0.75, tfidf__ngram_range=(1, 1), truncate__n_components=64, score=0.216, total= 6.0min\n",
      "[CV] knn__estimator__n_neighbors=1, tfidf__max_df=0.75, tfidf__ngram_range=(1, 1), truncate__n_components=64 \n"
     ]
    },
    {
     "name": "stderr",
     "output_type": "stream",
     "text": [
      "[Parallel(n_jobs=1)]: Done   1 out of   1 | elapsed:  6.0min remaining:    0.0s\n"
     ]
    },
    {
     "name": "stdout",
     "output_type": "stream",
     "text": [
      "[CV]  knn__estimator__n_neighbors=1, tfidf__max_df=0.75, tfidf__ngram_range=(1, 1), truncate__n_components=64, score=0.211, total= 6.3min\n",
      "[CV] knn__estimator__n_neighbors=1, tfidf__max_df=0.75, tfidf__ngram_range=(1, 1), truncate__n_components=64 \n"
     ]
    },
    {
     "name": "stderr",
     "output_type": "stream",
     "text": [
      "[Parallel(n_jobs=1)]: Done   2 out of   2 | elapsed: 12.3min remaining:    0.0s\n"
     ]
    },
    {
     "name": "stdout",
     "output_type": "stream",
     "text": [
      "[CV]  knn__estimator__n_neighbors=1, tfidf__max_df=0.75, tfidf__ngram_range=(1, 1), truncate__n_components=64, score=0.214, total= 6.0min\n",
      "[CV] knn__estimator__n_neighbors=1, tfidf__max_df=0.75, tfidf__ngram_range=(1, 1), truncate__n_components=128 \n",
      "[CV]  knn__estimator__n_neighbors=1, tfidf__max_df=0.75, tfidf__ngram_range=(1, 1), truncate__n_components=128, score=0.209, total=10.8min\n",
      "[CV] knn__estimator__n_neighbors=1, tfidf__max_df=0.75, tfidf__ngram_range=(1, 1), truncate__n_components=128 \n",
      "[CV]  knn__estimator__n_neighbors=1, tfidf__max_df=0.75, tfidf__ngram_range=(1, 1), truncate__n_components=128, score=0.217, total=10.7min\n",
      "[CV] knn__estimator__n_neighbors=1, tfidf__max_df=0.75, tfidf__ngram_range=(1, 1), truncate__n_components=128 \n",
      "[CV]  knn__estimator__n_neighbors=1, tfidf__max_df=0.75, tfidf__ngram_range=(1, 1), truncate__n_components=128, score=0.219, total=10.9min\n",
      "[CV] knn__estimator__n_neighbors=1, tfidf__max_df=0.75, tfidf__ngram_range=(1, 2), truncate__n_components=64 \n",
      "[CV]  knn__estimator__n_neighbors=1, tfidf__max_df=0.75, tfidf__ngram_range=(1, 2), truncate__n_components=64, score=0.205, total= 6.1min\n",
      "[CV] knn__estimator__n_neighbors=1, tfidf__max_df=0.75, tfidf__ngram_range=(1, 2), truncate__n_components=64 \n",
      "[CV]  knn__estimator__n_neighbors=1, tfidf__max_df=0.75, tfidf__ngram_range=(1, 2), truncate__n_components=64, score=0.213, total= 6.5min\n",
      "[CV] knn__estimator__n_neighbors=1, tfidf__max_df=0.75, tfidf__ngram_range=(1, 2), truncate__n_components=64 \n",
      "[CV]  knn__estimator__n_neighbors=1, tfidf__max_df=0.75, tfidf__ngram_range=(1, 2), truncate__n_components=64, score=0.207, total= 6.1min\n",
      "[CV] knn__estimator__n_neighbors=1, tfidf__max_df=0.75, tfidf__ngram_range=(1, 2), truncate__n_components=128 \n",
      "[CV]  knn__estimator__n_neighbors=1, tfidf__max_df=0.75, tfidf__ngram_range=(1, 2), truncate__n_components=128, score=0.211, total=11.0min\n",
      "[CV] knn__estimator__n_neighbors=1, tfidf__max_df=0.75, tfidf__ngram_range=(1, 2), truncate__n_components=128 \n",
      "[CV]  knn__estimator__n_neighbors=1, tfidf__max_df=0.75, tfidf__ngram_range=(1, 2), truncate__n_components=128, score=0.224, total=11.1min\n",
      "[CV] knn__estimator__n_neighbors=1, tfidf__max_df=0.75, tfidf__ngram_range=(1, 2), truncate__n_components=128 \n",
      "[CV]  knn__estimator__n_neighbors=1, tfidf__max_df=0.75, tfidf__ngram_range=(1, 2), truncate__n_components=128, score=0.224, total=11.1min\n",
      "[CV] knn__estimator__n_neighbors=1, tfidf__max_df=1.0, tfidf__ngram_range=(1, 1), truncate__n_components=64 \n",
      "[CV]  knn__estimator__n_neighbors=1, tfidf__max_df=1.0, tfidf__ngram_range=(1, 1), truncate__n_components=64, score=0.206, total= 6.6min\n",
      "[CV] knn__estimator__n_neighbors=1, tfidf__max_df=1.0, tfidf__ngram_range=(1, 1), truncate__n_components=64 \n",
      "[CV]  knn__estimator__n_neighbors=1, tfidf__max_df=1.0, tfidf__ngram_range=(1, 1), truncate__n_components=64, score=0.211, total= 6.3min\n",
      "[CV] knn__estimator__n_neighbors=1, tfidf__max_df=1.0, tfidf__ngram_range=(1, 1), truncate__n_components=64 \n",
      "[CV]  knn__estimator__n_neighbors=1, tfidf__max_df=1.0, tfidf__ngram_range=(1, 1), truncate__n_components=64, score=0.210, total= 6.1min\n",
      "[CV] knn__estimator__n_neighbors=1, tfidf__max_df=1.0, tfidf__ngram_range=(1, 1), truncate__n_components=128 \n",
      "[CV]  knn__estimator__n_neighbors=1, tfidf__max_df=1.0, tfidf__ngram_range=(1, 1), truncate__n_components=128, score=0.213, total=10.7min\n",
      "[CV] knn__estimator__n_neighbors=1, tfidf__max_df=1.0, tfidf__ngram_range=(1, 1), truncate__n_components=128 \n",
      "[CV]  knn__estimator__n_neighbors=1, tfidf__max_df=1.0, tfidf__ngram_range=(1, 1), truncate__n_components=128, score=0.221, total=10.7min\n",
      "[CV] knn__estimator__n_neighbors=1, tfidf__max_df=1.0, tfidf__ngram_range=(1, 1), truncate__n_components=128 \n",
      "[CV]  knn__estimator__n_neighbors=1, tfidf__max_df=1.0, tfidf__ngram_range=(1, 1), truncate__n_components=128, score=0.221, total=10.9min\n",
      "[CV] knn__estimator__n_neighbors=1, tfidf__max_df=1.0, tfidf__ngram_range=(1, 2), truncate__n_components=64 \n",
      "[CV]  knn__estimator__n_neighbors=1, tfidf__max_df=1.0, tfidf__ngram_range=(1, 2), truncate__n_components=64, score=0.204, total= 5.6min\n",
      "[CV] knn__estimator__n_neighbors=1, tfidf__max_df=1.0, tfidf__ngram_range=(1, 2), truncate__n_components=64 \n",
      "[CV]  knn__estimator__n_neighbors=1, tfidf__max_df=1.0, tfidf__ngram_range=(1, 2), truncate__n_components=64, score=0.213, total= 5.6min\n",
      "[CV] knn__estimator__n_neighbors=1, tfidf__max_df=1.0, tfidf__ngram_range=(1, 2), truncate__n_components=64 \n",
      "[CV]  knn__estimator__n_neighbors=1, tfidf__max_df=1.0, tfidf__ngram_range=(1, 2), truncate__n_components=64, score=0.209, total= 5.2min\n",
      "[CV] knn__estimator__n_neighbors=1, tfidf__max_df=1.0, tfidf__ngram_range=(1, 2), truncate__n_components=128 \n",
      "[CV]  knn__estimator__n_neighbors=1, tfidf__max_df=1.0, tfidf__ngram_range=(1, 2), truncate__n_components=128, score=0.213, total=10.2min\n",
      "[CV] knn__estimator__n_neighbors=1, tfidf__max_df=1.0, tfidf__ngram_range=(1, 2), truncate__n_components=128 \n",
      "[CV]  knn__estimator__n_neighbors=1, tfidf__max_df=1.0, tfidf__ngram_range=(1, 2), truncate__n_components=128, score=0.228, total=10.5min\n",
      "[CV] knn__estimator__n_neighbors=1, tfidf__max_df=1.0, tfidf__ngram_range=(1, 2), truncate__n_components=128 \n",
      "[CV]  knn__estimator__n_neighbors=1, tfidf__max_df=1.0, tfidf__ngram_range=(1, 2), truncate__n_components=128, score=0.221, total=10.5min\n",
      "[CV] knn__estimator__n_neighbors=3, tfidf__max_df=0.75, tfidf__ngram_range=(1, 1), truncate__n_components=64 \n",
      "[CV]  knn__estimator__n_neighbors=3, tfidf__max_df=0.75, tfidf__ngram_range=(1, 1), truncate__n_components=64, score=0.245, total= 6.5min\n",
      "[CV] knn__estimator__n_neighbors=3, tfidf__max_df=0.75, tfidf__ngram_range=(1, 1), truncate__n_components=64 \n",
      "[CV]  knn__estimator__n_neighbors=3, tfidf__max_df=0.75, tfidf__ngram_range=(1, 1), truncate__n_components=64, score=0.249, total= 5.8min\n",
      "[CV] knn__estimator__n_neighbors=3, tfidf__max_df=0.75, tfidf__ngram_range=(1, 1), truncate__n_components=64 \n",
      "[CV]  knn__estimator__n_neighbors=3, tfidf__max_df=0.75, tfidf__ngram_range=(1, 1), truncate__n_components=64, score=0.238, total= 6.0min\n",
      "[CV] knn__estimator__n_neighbors=3, tfidf__max_df=0.75, tfidf__ngram_range=(1, 1), truncate__n_components=128 \n",
      "[CV]  knn__estimator__n_neighbors=3, tfidf__max_df=0.75, tfidf__ngram_range=(1, 1), truncate__n_components=128, score=0.243, total=11.0min\n",
      "[CV] knn__estimator__n_neighbors=3, tfidf__max_df=0.75, tfidf__ngram_range=(1, 1), truncate__n_components=128 \n",
      "[CV]  knn__estimator__n_neighbors=3, tfidf__max_df=0.75, tfidf__ngram_range=(1, 1), truncate__n_components=128, score=0.252, total=11.2min\n",
      "[CV] knn__estimator__n_neighbors=3, tfidf__max_df=0.75, tfidf__ngram_range=(1, 1), truncate__n_components=128 \n",
      "[CV]  knn__estimator__n_neighbors=3, tfidf__max_df=0.75, tfidf__ngram_range=(1, 1), truncate__n_components=128, score=0.242, total=11.1min\n",
      "[CV] knn__estimator__n_neighbors=3, tfidf__max_df=0.75, tfidf__ngram_range=(1, 2), truncate__n_components=64 \n",
      "[CV]  knn__estimator__n_neighbors=3, tfidf__max_df=0.75, tfidf__ngram_range=(1, 2), truncate__n_components=64, score=0.233, total= 5.5min\n",
      "[CV] knn__estimator__n_neighbors=3, tfidf__max_df=0.75, tfidf__ngram_range=(1, 2), truncate__n_components=64 \n",
      "[CV]  knn__estimator__n_neighbors=3, tfidf__max_df=0.75, tfidf__ngram_range=(1, 2), truncate__n_components=64, score=0.242, total= 5.8min\n",
      "[CV] knn__estimator__n_neighbors=3, tfidf__max_df=0.75, tfidf__ngram_range=(1, 2), truncate__n_components=64 \n",
      "[CV]  knn__estimator__n_neighbors=3, tfidf__max_df=0.75, tfidf__ngram_range=(1, 2), truncate__n_components=64, score=0.240, total= 5.9min\n",
      "[CV] knn__estimator__n_neighbors=3, tfidf__max_df=0.75, tfidf__ngram_range=(1, 2), truncate__n_components=128 \n",
      "[CV]  knn__estimator__n_neighbors=3, tfidf__max_df=0.75, tfidf__ngram_range=(1, 2), truncate__n_components=128, score=0.244, total=10.9min\n",
      "[CV] knn__estimator__n_neighbors=3, tfidf__max_df=0.75, tfidf__ngram_range=(1, 2), truncate__n_components=128 \n",
      "[CV]  knn__estimator__n_neighbors=3, tfidf__max_df=0.75, tfidf__ngram_range=(1, 2), truncate__n_components=128, score=0.266, total=11.4min\n",
      "[CV] knn__estimator__n_neighbors=3, tfidf__max_df=0.75, tfidf__ngram_range=(1, 2), truncate__n_components=128 \n"
     ]
    },
    {
     "name": "stdout",
     "output_type": "stream",
     "text": [
      "[CV]  knn__estimator__n_neighbors=3, tfidf__max_df=0.75, tfidf__ngram_range=(1, 2), truncate__n_components=128, score=0.252, total=10.9min\n",
      "[CV] knn__estimator__n_neighbors=3, tfidf__max_df=1.0, tfidf__ngram_range=(1, 1), truncate__n_components=64 \n",
      "[CV]  knn__estimator__n_neighbors=3, tfidf__max_df=1.0, tfidf__ngram_range=(1, 1), truncate__n_components=64, score=0.242, total= 6.1min\n",
      "[CV] knn__estimator__n_neighbors=3, tfidf__max_df=1.0, tfidf__ngram_range=(1, 1), truncate__n_components=64 \n",
      "[CV]  knn__estimator__n_neighbors=3, tfidf__max_df=1.0, tfidf__ngram_range=(1, 1), truncate__n_components=64, score=0.247, total= 5.3min\n",
      "[CV] knn__estimator__n_neighbors=3, tfidf__max_df=1.0, tfidf__ngram_range=(1, 1), truncate__n_components=64 \n",
      "[CV]  knn__estimator__n_neighbors=3, tfidf__max_df=1.0, tfidf__ngram_range=(1, 1), truncate__n_components=64, score=0.244, total= 5.1min\n",
      "[CV] knn__estimator__n_neighbors=3, tfidf__max_df=1.0, tfidf__ngram_range=(1, 1), truncate__n_components=128 \n",
      "[CV]  knn__estimator__n_neighbors=3, tfidf__max_df=1.0, tfidf__ngram_range=(1, 1), truncate__n_components=128, score=0.242, total=10.4min\n",
      "[CV] knn__estimator__n_neighbors=3, tfidf__max_df=1.0, tfidf__ngram_range=(1, 1), truncate__n_components=128 \n",
      "[CV]  knn__estimator__n_neighbors=3, tfidf__max_df=1.0, tfidf__ngram_range=(1, 1), truncate__n_components=128, score=0.254, total=10.5min\n",
      "[CV] knn__estimator__n_neighbors=3, tfidf__max_df=1.0, tfidf__ngram_range=(1, 1), truncate__n_components=128 \n",
      "[CV]  knn__estimator__n_neighbors=3, tfidf__max_df=1.0, tfidf__ngram_range=(1, 1), truncate__n_components=128, score=0.253, total=10.6min\n",
      "[CV] knn__estimator__n_neighbors=3, tfidf__max_df=1.0, tfidf__ngram_range=(1, 2), truncate__n_components=64 \n",
      "[CV]  knn__estimator__n_neighbors=3, tfidf__max_df=1.0, tfidf__ngram_range=(1, 2), truncate__n_components=64, score=0.238, total= 4.9min\n",
      "[CV] knn__estimator__n_neighbors=3, tfidf__max_df=1.0, tfidf__ngram_range=(1, 2), truncate__n_components=64 \n",
      "[CV]  knn__estimator__n_neighbors=3, tfidf__max_df=1.0, tfidf__ngram_range=(1, 2), truncate__n_components=64, score=0.244, total= 4.9min\n",
      "[CV] knn__estimator__n_neighbors=3, tfidf__max_df=1.0, tfidf__ngram_range=(1, 2), truncate__n_components=64 \n",
      "[CV]  knn__estimator__n_neighbors=3, tfidf__max_df=1.0, tfidf__ngram_range=(1, 2), truncate__n_components=64, score=0.237, total= 5.0min\n",
      "[CV] knn__estimator__n_neighbors=3, tfidf__max_df=1.0, tfidf__ngram_range=(1, 2), truncate__n_components=128 \n",
      "[CV]  knn__estimator__n_neighbors=3, tfidf__max_df=1.0, tfidf__ngram_range=(1, 2), truncate__n_components=128, score=0.244, total=10.3min\n",
      "[CV] knn__estimator__n_neighbors=3, tfidf__max_df=1.0, tfidf__ngram_range=(1, 2), truncate__n_components=128 \n",
      "[CV]  knn__estimator__n_neighbors=3, tfidf__max_df=1.0, tfidf__ngram_range=(1, 2), truncate__n_components=128, score=0.257, total=10.7min\n",
      "[CV] knn__estimator__n_neighbors=3, tfidf__max_df=1.0, tfidf__ngram_range=(1, 2), truncate__n_components=128 \n",
      "[CV]  knn__estimator__n_neighbors=3, tfidf__max_df=1.0, tfidf__ngram_range=(1, 2), truncate__n_components=128, score=0.259, total=10.2min\n"
     ]
    },
    {
     "name": "stderr",
     "output_type": "stream",
     "text": [
      "[Parallel(n_jobs=1)]: Done  48 out of  48 | elapsed: 397.5min finished\n"
     ]
    },
    {
     "data": {
      "text/plain": [
       "GridSearchCV(cv=3, error_score=nan,\n",
       "             estimator=Pipeline(memory=None,\n",
       "                                steps=[('tfidf',\n",
       "                                        TfidfVectorizer(analyzer='word',\n",
       "                                                        binary=False,\n",
       "                                                        decode_error='strict',\n",
       "                                                        dtype=<class 'numpy.float64'>,\n",
       "                                                        encoding='utf-8',\n",
       "                                                        input='content',\n",
       "                                                        lowercase=True,\n",
       "                                                        max_df=1.0,\n",
       "                                                        max_features=None,\n",
       "                                                        min_df=1,\n",
       "                                                        ngram_range=(1, 1),\n",
       "                                                        norm='l2',\n",
       "                                                        preprocessor=None,\n",
       "                                                        smooth_idf=True,\n",
       "                                                        stop_words=None,\n",
       "                                                        strip_acc...\n",
       "                                                                                             metric_params=None,\n",
       "                                                                                             n_jobs=None,\n",
       "                                                                                             n_neighbors=5,\n",
       "                                                                                             p=2,\n",
       "                                                                                             weights='uniform'),\n",
       "                                                              n_jobs=None))],\n",
       "                                verbose=False),\n",
       "             iid='deprecated', n_jobs=None,\n",
       "             param_grid={'knn__estimator__n_neighbors': [1, 3],\n",
       "                         'tfidf__max_df': (0.75, 1.0),\n",
       "                         'tfidf__ngram_range': ((1, 1), (1, 2)),\n",
       "                         'truncate__n_components': [64, 128]},\n",
       "             pre_dispatch='2*n_jobs', refit=True, return_train_score=False,\n",
       "             scoring=None, verbose=3)"
      ]
     },
     "execution_count": 20,
     "metadata": {},
     "output_type": "execute_result"
    }
   ],
   "source": [
    "knn_cv.fit(X_train, Y_train)"
   ]
  },
  {
   "cell_type": "code",
   "execution_count": 21,
   "metadata": {},
   "outputs": [
    {
     "name": "stdout",
     "output_type": "stream",
     "text": [
      "==========  Test Data Scores ===========\n",
      "Accuracy:  0.2497376705141658\n",
      "Precision:  0.6596527769592412\n",
      "Recall:  0.452966347548593\n",
      "F1 score:  0.5203990025835931\n",
      "\n",
      "==========  Train Data Scores ===========\n",
      "Accuracy:  0.42947392602802664\n",
      "Precision:  0.8709023065564132\n",
      "Recall:  0.5840605424195242\n",
      "F1 score:  0.6727115368203482\n"
     ]
    }
   ],
   "source": [
    "test_model(knn_cv, X_train, X_test, Y_train, Y_test);"
   ]
  },
  {
   "cell_type": "markdown",
   "metadata": {},
   "source": [
    "We see that this model is not that much overfitted, but the scores on test set are not better than RandomForest results"
   ]
  },
  {
   "cell_type": "code",
   "execution_count": null,
   "metadata": {},
   "outputs": [],
   "source": []
  },
  {
   "cell_type": "markdown",
   "metadata": {},
   "source": [
    "Another try: Gradient Boosting Classifier"
   ]
  },
  {
   "cell_type": "code",
   "execution_count": 62,
   "metadata": {},
   "outputs": [],
   "source": [
    "from sklearn.decomposition import TruncatedSVD\n",
    "from sklearn.ensemble import GradientBoostingClassifier\n",
    "\n",
    "gb_classifier = GradientBoostingClassifier(n_estimators = 64, random_state=42)\n",
    "\n",
    "pipeline_gb = Pipeline([\n",
    "                    ('tfidf', TfidfVectorizer(tokenizer=tokenize)),\n",
    "                    ('truncate', TruncatedSVD(n_components=128)),\n",
    "                    ('gb', MultiOutputClassifier(gb_classifier))\n",
    "                    ])"
   ]
  },
  {
   "cell_type": "code",
   "execution_count": 63,
   "metadata": {},
   "outputs": [
    {
     "data": {
      "text/plain": [
       "Pipeline(memory=None,\n",
       "         steps=[('tfidf',\n",
       "                 TfidfVectorizer(analyzer='word', binary=False,\n",
       "                                 decode_error='strict',\n",
       "                                 dtype=<class 'numpy.float64'>,\n",
       "                                 encoding='utf-8', input='content',\n",
       "                                 lowercase=True, max_df=1.0, max_features=None,\n",
       "                                 min_df=1, ngram_range=(1, 1), norm='l2',\n",
       "                                 preprocessor=None, smooth_idf=True,\n",
       "                                 stop_words=None, strip_accents=None,\n",
       "                                 sublinear_tf=False,\n",
       "                                 token_pattern='...\n",
       "                                                                            loss='deviance',\n",
       "                                                                            max_depth=3,\n",
       "                                                                            max_features=None,\n",
       "                                                                            max_leaf_nodes=None,\n",
       "                                                                            min_impurity_decrease=0.0,\n",
       "                                                                            min_impurity_split=None,\n",
       "                                                                            min_samples_leaf=1,\n",
       "                                                                            min_samples_split=2,\n",
       "                                                                            min_weight_fraction_leaf=0.0,\n",
       "                                                                            n_estimators=64,\n",
       "                                                                            n_iter_no_change=None,\n",
       "                                                                            presort='deprecated',\n",
       "                                                                            random_state=42,\n",
       "                                                                            subsample=1.0,\n",
       "                                                                            tol=0.0001,\n",
       "                                                                            validation_fraction=0.1,\n",
       "                                                                            verbose=0,\n",
       "                                                                            warm_start=False),\n",
       "                                       n_jobs=None))],\n",
       "         verbose=False)"
      ]
     },
     "execution_count": 63,
     "metadata": {},
     "output_type": "execute_result"
    }
   ],
   "source": [
    "pipeline_gb.fit(X_train, Y_train)"
   ]
  },
  {
   "cell_type": "code",
   "execution_count": 65,
   "metadata": {},
   "outputs": [
    {
     "name": "stdout",
     "output_type": "stream",
     "text": [
      "==========  Test Data Scores ===========\n",
      "Accuracy:  0.22945085694298706\n",
      "Precision:  0.6931443246245549\n",
      "Recall:  0.5161372207716856\n",
      "F1 score:  0.558619059009926\n",
      "\n",
      "==========  Train Data Scores ===========\n",
      "Accuracy:  0.28560762692396047\n",
      "Precision:  0.8223476393193989\n",
      "Recall:  0.5648332548792411\n",
      "F1 score:  0.6225042604077646\n"
     ]
    }
   ],
   "source": [
    "test_model(pipeline_gb, X_train, X_test, Y_train, Y_test);"
   ]
  },
  {
   "cell_type": "markdown",
   "metadata": {},
   "source": [
    "### 9. Export your model as a pickle file"
   ]
  },
  {
   "cell_type": "code",
   "execution_count": 22,
   "metadata": {},
   "outputs": [
    {
     "data": {
      "text/plain": [
       "['disaster_model.pkl']"
      ]
     },
     "execution_count": 22,
     "metadata": {},
     "output_type": "execute_result"
    }
   ],
   "source": [
    "import joblib\n",
    "\n",
    "joblib.dump(knn_cv.best_estimator_, 'disaster_model.pkl')"
   ]
  },
  {
   "cell_type": "markdown",
   "metadata": {},
   "source": [
    "### 10. Use this notebook to complete `train.py`\n",
    "Use the template file attached in the Resources folder to write a script that runs the steps above to create a database and export a model based on a new dataset specified by the user."
   ]
  },
  {
   "cell_type": "code",
   "execution_count": null,
   "metadata": {},
   "outputs": [],
   "source": []
  }
 ],
 "metadata": {
  "kernelspec": {
   "display_name": "Python 3",
   "language": "python",
   "name": "python3"
  },
  "language_info": {
   "codemirror_mode": {
    "name": "ipython",
    "version": 3
   },
   "file_extension": ".py",
   "mimetype": "text/x-python",
   "name": "python",
   "nbconvert_exporter": "python",
   "pygments_lexer": "ipython3",
   "version": "3.8.1"
  }
 },
 "nbformat": 4,
 "nbformat_minor": 2
}
